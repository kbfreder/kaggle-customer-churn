{
 "cells": [
  {
   "cell_type": "markdown",
   "metadata": {},
   "source": [
    "**_WORK IN PROGRESS_**"
   ]
  },
  {
   "cell_type": "code",
   "execution_count": null,
   "metadata": {},
   "outputs": [],
   "source": [
    "import pandas as pd\n",
    "import numpy as np\n",
    "import matplotlib.pyplot as plt\n",
    "import seaborn as sns\n",
    "# import datetime as dt\n",
    "\n",
    "# import sys  \n",
    "# sys.path.append('/Users/kendra/data_science/Projects/sharedCode')\n",
    "\n",
    "import util as u\n",
    "\n",
    "%load_ext autoreload\n",
    "%autoreload 2"
   ]
  },
  {
   "cell_type": "markdown",
   "metadata": {},
   "source": [
    "### Load Data"
   ]
  },
  {
   "cell_type": "code",
   "execution_count": 15,
   "metadata": {},
   "outputs": [],
   "source": [
    "X_train = u.open_pkl('Data/X_train.pkl')\n",
    "X_test = u.open_pkl('Data/X_test.pkl')\n",
    "y_train = u.open_pkl('Data/y_train.pkl')\n",
    "y_test = u.open_pkl('Data/y_test.pkl')"
   ]
  },
  {
   "cell_type": "markdown",
   "metadata": {},
   "source": [
    "## Tune CatBoost"
   ]
  },
  {
   "cell_type": "code",
   "execution_count": null,
   "metadata": {},
   "outputs": [],
   "source": [
    "cat_cols = ['registered_via']\n",
    "cat_cols_idx = [list(df_feat1.columns).index(x) for x in cat_cols]"
   ]
  },
  {
   "cell_type": "code",
   "execution_count": null,
   "metadata": {},
   "outputs": [],
   "source": [
    "cb = CatBoostClassifier(cat_features=cat_cols_idx, logging_level='Silent')"
   ]
  },
  {
   "cell_type": "markdown",
   "metadata": {},
   "source": [
    "## Evaluate model on test data"
   ]
  },
  {
   "cell_type": "markdown",
   "metadata": {},
   "source": [
    "### Preprocess test data"
   ]
  },
  {
   "cell_type": "code",
   "execution_count": 3,
   "metadata": {},
   "outputs": [],
   "source": [
    "pca_songs = u.open_pkl('Data/pca_songs.pkl')\n",
    "pca_trans = u.open_pkl('Data/pca_trans.pkl')"
   ]
  },
  {
   "cell_type": "code",
   "execution_count": 16,
   "metadata": {},
   "outputs": [],
   "source": [
    "# pca_songs = PCA(n_components=1)\n",
    "df_songs_pca = X_test[['num_100_mean', 'num_unq_mean', 'num_songs_mean', 'num_songs_sum',\n",
    "       'total_secs_mean', 'total_secs_sum']]\n",
    "songs_pca = pca_songs.transform(df_songs_pca)"
   ]
  },
  {
   "cell_type": "code",
   "execution_count": 20,
   "metadata": {},
   "outputs": [],
   "source": [
    "# pca_trans = PCA(n_components=1)\n",
    "df_trans_pca = X_test[['payment_plan_days_mode', 'payment_plan_days_sum',\n",
    "       'plan_list_price_mode', 'plan_list_price_sum',\n",
    "       'actual_amount_paid_mode', 'actual_amount_paid_sum']]\n",
    "trans_pca = pca_songs.fit_transform(df_trans_pca)"
   ]
  },
  {
   "cell_type": "code",
   "execution_count": 23,
   "metadata": {},
   "outputs": [],
   "source": [
    "fs_cols_1 = ['registered_via', \n",
    "             'short_pct_mean', \n",
    "             'payment_method_most_common_mode',\n",
    "             'plan_actual_diff_abs_max',\n",
    "             'is_auto_renew_mode', 'is_cancel_mode',\n",
    "             'trans_count', \n",
    "             'time_since_registration']\n",
    "\n",
    "df_feat1 = X_test[fs_cols_1]\n",
    "df_feat1 = df_feat1.join(pd.DataFrame(songs_pca, columns=['song_pca']))\n",
    "df_feat1 = df_feat1.join(pd.DataFrame(trans_pca, columns=['transactions_pca']))"
   ]
  },
  {
   "cell_type": "code",
   "execution_count": 25,
   "metadata": {},
   "outputs": [
    {
     "data": {
      "text/html": [
       "<div>\n",
       "<style scoped>\n",
       "    .dataframe tbody tr th:only-of-type {\n",
       "        vertical-align: middle;\n",
       "    }\n",
       "\n",
       "    .dataframe tbody tr th {\n",
       "        vertical-align: top;\n",
       "    }\n",
       "\n",
       "    .dataframe thead th {\n",
       "        text-align: right;\n",
       "    }\n",
       "</style>\n",
       "<table border=\"1\" class=\"dataframe\">\n",
       "  <thead>\n",
       "    <tr style=\"text-align: right;\">\n",
       "      <th></th>\n",
       "      <th>registered_via</th>\n",
       "      <th>short_pct_mean</th>\n",
       "      <th>payment_method_most_common_mode</th>\n",
       "      <th>plan_actual_diff_abs_max</th>\n",
       "      <th>is_auto_renew_mode</th>\n",
       "      <th>is_cancel_mode</th>\n",
       "      <th>trans_count</th>\n",
       "      <th>time_since_registration</th>\n",
       "      <th>song_pca</th>\n",
       "      <th>transactions_pca</th>\n",
       "    </tr>\n",
       "  </thead>\n",
       "  <tbody>\n",
       "    <tr>\n",
       "      <th>157611</th>\n",
       "      <td>7.0</td>\n",
       "      <td>0.000000</td>\n",
       "      <td>1.0</td>\n",
       "      <td>0.0</td>\n",
       "      <td>1.0</td>\n",
       "      <td>0.0</td>\n",
       "      <td>1.0</td>\n",
       "      <td>83.43</td>\n",
       "      <td>15762.648464</td>\n",
       "      <td>-67.731168</td>\n",
       "    </tr>\n",
       "    <tr>\n",
       "      <th>176760</th>\n",
       "      <td>3.0</td>\n",
       "      <td>0.356986</td>\n",
       "      <td>0.0</td>\n",
       "      <td>0.0</td>\n",
       "      <td>0.0</td>\n",
       "      <td>0.0</td>\n",
       "      <td>1.0</td>\n",
       "      <td>14.30</td>\n",
       "      <td>63624.752520</td>\n",
       "      <td>32.637482</td>\n",
       "    </tr>\n",
       "    <tr>\n",
       "      <th>121786</th>\n",
       "      <td>7.0</td>\n",
       "      <td>0.172873</td>\n",
       "      <td>0.0</td>\n",
       "      <td>0.0</td>\n",
       "      <td>1.0</td>\n",
       "      <td>0.0</td>\n",
       "      <td>1.0</td>\n",
       "      <td>81.93</td>\n",
       "      <td>143451.768097</td>\n",
       "      <td>-28.370913</td>\n",
       "    </tr>\n",
       "    <tr>\n",
       "      <th>2079</th>\n",
       "      <td>9.0</td>\n",
       "      <td>0.186824</td>\n",
       "      <td>0.0</td>\n",
       "      <td>0.0</td>\n",
       "      <td>1.0</td>\n",
       "      <td>0.0</td>\n",
       "      <td>1.0</td>\n",
       "      <td>138.30</td>\n",
       "      <td>136507.829722</td>\n",
       "      <td>-28.370913</td>\n",
       "    </tr>\n",
       "    <tr>\n",
       "      <th>203864</th>\n",
       "      <td>9.0</td>\n",
       "      <td>0.319320</td>\n",
       "      <td>0.0</td>\n",
       "      <td>0.0</td>\n",
       "      <td>1.0</td>\n",
       "      <td>0.0</td>\n",
       "      <td>1.0</td>\n",
       "      <td>151.57</td>\n",
       "      <td>106904.204370</td>\n",
       "      <td>-28.370913</td>\n",
       "    </tr>\n",
       "    <tr>\n",
       "      <th>128146</th>\n",
       "      <td>4.0</td>\n",
       "      <td>0.253488</td>\n",
       "      <td>0.0</td>\n",
       "      <td>0.0</td>\n",
       "      <td>0.0</td>\n",
       "      <td>0.0</td>\n",
       "      <td>1.0</td>\n",
       "      <td>4.90</td>\n",
       "      <td>19560.231585</td>\n",
       "      <td>32.637482</td>\n",
       "    </tr>\n",
       "    <tr>\n",
       "      <th>8944</th>\n",
       "      <td>9.0</td>\n",
       "      <td>0.480065</td>\n",
       "      <td>0.0</td>\n",
       "      <td>0.0</td>\n",
       "      <td>1.0</td>\n",
       "      <td>0.0</td>\n",
       "      <td>1.0</td>\n",
       "      <td>11.20</td>\n",
       "      <td>19539.710985</td>\n",
       "      <td>-28.370913</td>\n",
       "    </tr>\n",
       "    <tr>\n",
       "      <th>213856</th>\n",
       "      <td>7.0</td>\n",
       "      <td>0.258840</td>\n",
       "      <td>1.0</td>\n",
       "      <td>0.0</td>\n",
       "      <td>1.0</td>\n",
       "      <td>0.0</td>\n",
       "      <td>1.0</td>\n",
       "      <td>21.20</td>\n",
       "      <td>27733.155245</td>\n",
       "      <td>-126.771550</td>\n",
       "    </tr>\n",
       "    <tr>\n",
       "      <th>116875</th>\n",
       "      <td>3.0</td>\n",
       "      <td>0.129295</td>\n",
       "      <td>0.0</td>\n",
       "      <td>0.0</td>\n",
       "      <td>0.0</td>\n",
       "      <td>0.0</td>\n",
       "      <td>1.0</td>\n",
       "      <td>48.97</td>\n",
       "      <td>51962.985581</td>\n",
       "      <td>3278.645415</td>\n",
       "    </tr>\n",
       "    <tr>\n",
       "      <th>81965</th>\n",
       "      <td>4.0</td>\n",
       "      <td>0.383348</td>\n",
       "      <td>0.0</td>\n",
       "      <td>0.0</td>\n",
       "      <td>0.0</td>\n",
       "      <td>0.0</td>\n",
       "      <td>1.0</td>\n",
       "      <td>15.90</td>\n",
       "      <td>58741.666798</td>\n",
       "      <td>-26.402900</td>\n",
       "    </tr>\n",
       "  </tbody>\n",
       "</table>\n",
       "</div>"
      ],
      "text/plain": [
       "       registered_via  short_pct_mean  payment_method_most_common_mode  \\\n",
       "157611            7.0        0.000000                              1.0   \n",
       "176760            3.0        0.356986                              0.0   \n",
       "121786            7.0        0.172873                              0.0   \n",
       "2079              9.0        0.186824                              0.0   \n",
       "203864            9.0        0.319320                              0.0   \n",
       "128146            4.0        0.253488                              0.0   \n",
       "8944              9.0        0.480065                              0.0   \n",
       "213856            7.0        0.258840                              1.0   \n",
       "116875            3.0        0.129295                              0.0   \n",
       "81965             4.0        0.383348                              0.0   \n",
       "\n",
       "        plan_actual_diff_abs_max  is_auto_renew_mode  is_cancel_mode  \\\n",
       "157611                       0.0                 1.0             0.0   \n",
       "176760                       0.0                 0.0             0.0   \n",
       "121786                       0.0                 1.0             0.0   \n",
       "2079                         0.0                 1.0             0.0   \n",
       "203864                       0.0                 1.0             0.0   \n",
       "128146                       0.0                 0.0             0.0   \n",
       "8944                         0.0                 1.0             0.0   \n",
       "213856                       0.0                 1.0             0.0   \n",
       "116875                       0.0                 0.0             0.0   \n",
       "81965                        0.0                 0.0             0.0   \n",
       "\n",
       "        trans_count  time_since_registration       song_pca  transactions_pca  \n",
       "157611          1.0                    83.43   15762.648464        -67.731168  \n",
       "176760          1.0                    14.30   63624.752520         32.637482  \n",
       "121786          1.0                    81.93  143451.768097        -28.370913  \n",
       "2079            1.0                   138.30  136507.829722        -28.370913  \n",
       "203864          1.0                   151.57  106904.204370        -28.370913  \n",
       "128146          1.0                     4.90   19560.231585         32.637482  \n",
       "8944            1.0                    11.20   19539.710985        -28.370913  \n",
       "213856          1.0                    21.20   27733.155245       -126.771550  \n",
       "116875          1.0                    48.97   51962.985581       3278.645415  \n",
       "81965           1.0                    15.90   58741.666798        -26.402900  "
      ]
     },
     "execution_count": 25,
     "metadata": {},
     "output_type": "execute_result"
    }
   ],
   "source": [
    "df_feat1.sample(10)"
   ]
  },
  {
   "cell_type": "code",
   "execution_count": null,
   "metadata": {},
   "outputs": [],
   "source": []
  }
 ],
 "metadata": {
  "kernelspec": {
   "display_name": "Python 3",
   "language": "python",
   "name": "python3"
  },
  "language_info": {
   "codemirror_mode": {
    "name": "ipython",
    "version": 3
   },
   "file_extension": ".py",
   "mimetype": "text/x-python",
   "name": "python",
   "nbconvert_exporter": "python",
   "pygments_lexer": "ipython3",
   "version": "3.6.7"
  }
 },
 "nbformat": 4,
 "nbformat_minor": 2
}
