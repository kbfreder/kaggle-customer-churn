{
 "cells": [
  {
   "cell_type": "code",
   "execution_count": 1,
   "metadata": {
    "_cell_guid": "b1076dfc-b9ad-4769-8c92-a6c4dae69d19",
    "_uuid": "8f2839f25d086af736a60e9eeb907d3b93b6e0e5"
   },
   "outputs": [
    {
     "name": "stderr",
     "output_type": "stream",
     "text": [
      "/Users/kendra/anaconda3/lib/python3.6/site-packages/matplotlib/__init__.py:886: MatplotlibDeprecationWarning: \n",
      "examples.directory is deprecated; in the future, examples will be found relative to the 'datapath' directory.\n",
      "  \"found relative to the 'datapath' directory.\".format(key))\n"
     ]
    }
   ],
   "source": [
    "import numpy as np # linear algebra\n",
    "import pandas as pd # data processing, CSV file I/O (e.g. pd.read_csv)\n",
    "import matplotlib.pyplot as plt\n",
    "import seaborn as sns\n",
    "import datetime as dt\n",
    "import scipy.stats as stats\n",
    "\n",
    "import util as u\n",
    "\n",
    "from sklearn.model_selection import train_test_split"
   ]
  },
  {
   "cell_type": "code",
   "execution_count": null,
   "metadata": {
    "_cell_guid": "79c7e3d0-c299-4dcb-8224-4455121ee9b0",
    "_uuid": "d629ff2d2480ee46fbb7e2d37f6b5fab8052498a"
   },
   "outputs": [],
   "source": [
    "churn_df = pd.read_csv('Data/train_v2.csv')\n",
    "trans_df = pd.read_csv('Data/transactions_v2.csv')"
   ]
  },
  {
   "cell_type": "code",
   "execution_count": 32,
   "metadata": {
    "_cell_guid": "79c7e3d0-c299-4dcb-8224-4455121ee9b0",
    "_uuid": "d629ff2d2480ee46fbb7e2d37f6b5fab8052498a"
   },
   "outputs": [],
   "source": [
    "logs_df = pd.read_csv('Data/user_logs_v2.csv')"
   ]
  },
  {
   "cell_type": "code",
   "execution_count": 2,
   "metadata": {
    "_cell_guid": "79c7e3d0-c299-4dcb-8224-4455121ee9b0",
    "_uuid": "d629ff2d2480ee46fbb7e2d37f6b5fab8052498a"
   },
   "outputs": [],
   "source": [
    "member_df = pd.read_csv('Data/members_v3.csv')"
   ]
  },
  {
   "cell_type": "markdown",
   "metadata": {
    "_uuid": "85eca710533e3e8cce4c9f4ff8005ada42261f64"
   },
   "source": [
    "### Create 'user' dataframe"
   ]
  },
  {
   "cell_type": "code",
   "execution_count": 3,
   "metadata": {
    "_uuid": "7d95017d255d5d6b18cf07b13664fd9dcbfa2745"
   },
   "outputs": [
    {
     "data": {
      "text/html": [
       "<div>\n",
       "<style scoped>\n",
       "    .dataframe tbody tr th:only-of-type {\n",
       "        vertical-align: middle;\n",
       "    }\n",
       "\n",
       "    .dataframe tbody tr th {\n",
       "        vertical-align: top;\n",
       "    }\n",
       "\n",
       "    .dataframe thead th {\n",
       "        text-align: right;\n",
       "    }\n",
       "</style>\n",
       "<table border=\"1\" class=\"dataframe\">\n",
       "  <thead>\n",
       "    <tr style=\"text-align: right;\">\n",
       "      <th></th>\n",
       "      <th>msno</th>\n",
       "      <th>is_churn</th>\n",
       "    </tr>\n",
       "  </thead>\n",
       "  <tbody>\n",
       "    <tr>\n",
       "      <th>0</th>\n",
       "      <td>ugx0CjOMzazClkFzU2xasmDZaoIqOUAZPsH1q0teWCg=</td>\n",
       "      <td>1</td>\n",
       "    </tr>\n",
       "    <tr>\n",
       "      <th>1</th>\n",
       "      <td>f/NmvEzHfhINFEYZTR05prUdr+E+3+oewvweYz9cCQE=</td>\n",
       "      <td>1</td>\n",
       "    </tr>\n",
       "    <tr>\n",
       "      <th>2</th>\n",
       "      <td>zLo9f73nGGT1p21ltZC3ChiRnAVvgibMyazbCxvWPcg=</td>\n",
       "      <td>1</td>\n",
       "    </tr>\n",
       "    <tr>\n",
       "      <th>3</th>\n",
       "      <td>8iF/+8HY8lJKFrTc7iR9ZYGCG2Ecrogbc2Vy5YhsfhQ=</td>\n",
       "      <td>1</td>\n",
       "    </tr>\n",
       "    <tr>\n",
       "      <th>4</th>\n",
       "      <td>K6fja4+jmoZ5xG6BypqX80Uw/XKpMgrEMdG2edFOxnA=</td>\n",
       "      <td>1</td>\n",
       "    </tr>\n",
       "  </tbody>\n",
       "</table>\n",
       "</div>"
      ],
      "text/plain": [
       "                                           msno  is_churn\n",
       "0  ugx0CjOMzazClkFzU2xasmDZaoIqOUAZPsH1q0teWCg=         1\n",
       "1  f/NmvEzHfhINFEYZTR05prUdr+E+3+oewvweYz9cCQE=         1\n",
       "2  zLo9f73nGGT1p21ltZC3ChiRnAVvgibMyazbCxvWPcg=         1\n",
       "3  8iF/+8HY8lJKFrTc7iR9ZYGCG2Ecrogbc2Vy5YhsfhQ=         1\n",
       "4  K6fja4+jmoZ5xG6BypqX80Uw/XKpMgrEMdG2edFOxnA=         1"
      ]
     },
     "execution_count": 3,
     "metadata": {},
     "output_type": "execute_result"
    }
   ],
   "source": [
    "churn_df.head()"
   ]
  },
  {
   "cell_type": "code",
   "execution_count": 4,
   "metadata": {
    "_uuid": "c2f0d707650c01505562e00a90e5bc5d57fffc45"
   },
   "outputs": [
    {
     "data": {
      "text/html": [
       "<div>\n",
       "<style scoped>\n",
       "    .dataframe tbody tr th:only-of-type {\n",
       "        vertical-align: middle;\n",
       "    }\n",
       "\n",
       "    .dataframe tbody tr th {\n",
       "        vertical-align: top;\n",
       "    }\n",
       "\n",
       "    .dataframe thead th {\n",
       "        text-align: right;\n",
       "    }\n",
       "</style>\n",
       "<table border=\"1\" class=\"dataframe\">\n",
       "  <thead>\n",
       "    <tr style=\"text-align: right;\">\n",
       "      <th></th>\n",
       "      <th>msno</th>\n",
       "      <th>city</th>\n",
       "      <th>bd</th>\n",
       "      <th>gender</th>\n",
       "      <th>registered_via</th>\n",
       "      <th>registration_init_time</th>\n",
       "    </tr>\n",
       "  </thead>\n",
       "  <tbody>\n",
       "    <tr>\n",
       "      <th>0</th>\n",
       "      <td>Rb9UwLQTrxzBVwCB6+bCcSQWZ9JiNLC9dXtM1oEsZA8=</td>\n",
       "      <td>1</td>\n",
       "      <td>0</td>\n",
       "      <td>NaN</td>\n",
       "      <td>11</td>\n",
       "      <td>20110911</td>\n",
       "    </tr>\n",
       "    <tr>\n",
       "      <th>1</th>\n",
       "      <td>+tJonkh+O1CA796Fm5X60UMOtB6POHAwPjbTRVl/EuU=</td>\n",
       "      <td>1</td>\n",
       "      <td>0</td>\n",
       "      <td>NaN</td>\n",
       "      <td>7</td>\n",
       "      <td>20110914</td>\n",
       "    </tr>\n",
       "    <tr>\n",
       "      <th>2</th>\n",
       "      <td>cV358ssn7a0f7jZOwGNWS07wCKVqxyiImJUX6xcIwKw=</td>\n",
       "      <td>1</td>\n",
       "      <td>0</td>\n",
       "      <td>NaN</td>\n",
       "      <td>11</td>\n",
       "      <td>20110915</td>\n",
       "    </tr>\n",
       "    <tr>\n",
       "      <th>3</th>\n",
       "      <td>9bzDeJP6sQodK73K5CBlJ6fgIQzPeLnRl0p5B77XP+g=</td>\n",
       "      <td>1</td>\n",
       "      <td>0</td>\n",
       "      <td>NaN</td>\n",
       "      <td>11</td>\n",
       "      <td>20110915</td>\n",
       "    </tr>\n",
       "    <tr>\n",
       "      <th>4</th>\n",
       "      <td>WFLY3s7z4EZsieHCt63XrsdtfTEmJ+2PnnKLH5GY4Tk=</td>\n",
       "      <td>6</td>\n",
       "      <td>32</td>\n",
       "      <td>female</td>\n",
       "      <td>9</td>\n",
       "      <td>20110915</td>\n",
       "    </tr>\n",
       "  </tbody>\n",
       "</table>\n",
       "</div>"
      ],
      "text/plain": [
       "                                           msno  city  bd  gender  \\\n",
       "0  Rb9UwLQTrxzBVwCB6+bCcSQWZ9JiNLC9dXtM1oEsZA8=     1   0     NaN   \n",
       "1  +tJonkh+O1CA796Fm5X60UMOtB6POHAwPjbTRVl/EuU=     1   0     NaN   \n",
       "2  cV358ssn7a0f7jZOwGNWS07wCKVqxyiImJUX6xcIwKw=     1   0     NaN   \n",
       "3  9bzDeJP6sQodK73K5CBlJ6fgIQzPeLnRl0p5B77XP+g=     1   0     NaN   \n",
       "4  WFLY3s7z4EZsieHCt63XrsdtfTEmJ+2PnnKLH5GY4Tk=     6  32  female   \n",
       "\n",
       "   registered_via  registration_init_time  \n",
       "0              11                20110911  \n",
       "1               7                20110914  \n",
       "2              11                20110915  \n",
       "3              11                20110915  \n",
       "4               9                20110915  "
      ]
     },
     "execution_count": 4,
     "metadata": {},
     "output_type": "execute_result"
    }
   ],
   "source": [
    "member_df.head()"
   ]
  },
  {
   "cell_type": "code",
   "execution_count": 156,
   "metadata": {},
   "outputs": [],
   "source": [
    "# merge churn & member df's:\n",
    "user_df = pd.merge(churn_df, member_df, on='msno', how='left')"
   ]
  },
  {
   "cell_type": "code",
   "execution_count": 6,
   "metadata": {},
   "outputs": [
    {
     "name": "stdout",
     "output_type": "stream",
     "text": [
      "<class 'pandas.core.frame.DataFrame'>\n",
      "Int64Index: 970960 entries, 0 to 970959\n",
      "Data columns (total 7 columns):\n",
      "msno                      970960 non-null object\n",
      "is_churn                  970960 non-null int64\n",
      "city                      860967 non-null float64\n",
      "bd                        860967 non-null float64\n",
      "gender                    388905 non-null object\n",
      "registered_via            860967 non-null float64\n",
      "registration_init_time    860967 non-null float64\n",
      "dtypes: float64(4), int64(1), object(2)\n",
      "memory usage: 59.3+ MB\n"
     ]
    }
   ],
   "source": [
    "user_df.info()"
   ]
  },
  {
   "cell_type": "markdown",
   "metadata": {
    "_uuid": "46a012551dd3b64e9ce86e1a973e9593192c31ee"
   },
   "source": [
    "**city**"
   ]
  },
  {
   "cell_type": "code",
   "execution_count": 7,
   "metadata": {
    "_uuid": "024fd2376ff7572f0f499791fe2164460475fbc1"
   },
   "outputs": [
    {
     "data": {
      "text/plain": [
       "array([ 5., 13.,  1., 22.,  9., 12.,  6., 14.,  4., nan, 15., 18.,  3.,\n",
       "       21.,  8.,  7., 17., 11., 10., 20., 16., 19.])"
      ]
     },
     "execution_count": 7,
     "metadata": {},
     "output_type": "execute_result"
    }
   ],
   "source": [
    "user_df['city'].unique()"
   ]
  },
  {
   "cell_type": "markdown",
   "metadata": {},
   "source": [
    "a lot of levels, and probably not that informative. Do not include"
   ]
  },
  {
   "cell_type": "markdown",
   "metadata": {},
   "source": [
    "**bd = age**"
   ]
  },
  {
   "cell_type": "code",
   "execution_count": 8,
   "metadata": {
    "_uuid": "3147a7250415c4d6fd8266f0314ea68009d750a2"
   },
   "outputs": [
    {
     "data": {
      "text/plain": [
       "count    860967.000000\n",
       "mean         13.583854\n",
       "std          20.064040\n",
       "min       -3152.000000\n",
       "25%           0.000000\n",
       "50%           0.000000\n",
       "75%          27.000000\n",
       "max        2016.000000\n",
       "Name: bd, dtype: float64"
      ]
     },
     "execution_count": 8,
     "metadata": {},
     "output_type": "execute_result"
    }
   ],
   "source": [
    "user_df['bd'].describe()"
   ]
  },
  {
   "cell_type": "markdown",
   "metadata": {},
   "source": [
    "Some anomalously high (age=2016?) and negative values..."
   ]
  },
  {
   "cell_type": "code",
   "execution_count": 9,
   "metadata": {
    "_uuid": "8f09298447362a1d8a3fecc0a6afe4504dff7158"
   },
   "outputs": [
    {
     "name": "stderr",
     "output_type": "stream",
     "text": [
      "/Users/kendra/anaconda3/lib/python3.6/site-packages/scipy/stats/stats.py:1713: FutureWarning: Using a non-tuple sequence for multidimensional indexing is deprecated; use `arr[tuple(seq)]` instead of `arr[seq]`. In the future this will be interpreted as an array index, `arr[np.array(seq)]`, which will result either in an error or a different result.\n",
      "  return np.add.reduce(sorted[indexer] * weights, axis=axis) / sumval\n"
     ]
    },
    {
     "data": {
      "text/plain": [
       "<matplotlib.axes._subplots.AxesSubplot at 0x1a17ebfdd8>"
      ]
     },
     "execution_count": 9,
     "metadata": {},
     "output_type": "execute_result"
    },
    {
     "data": {
      "image/png": "[encoded data removed]",
      "text/plain": [
       "<Figure size 432x288 with 1 Axes>"
      ]
     },
     "metadata": {
      "needs_background": "light"
     },
     "output_type": "display_data"
    }
   ],
   "source": [
    "sns.distplot(user_df['bd'].dropna())"
   ]
  },
  {
   "cell_type": "code",
   "execution_count": 10,
   "metadata": {
    "_uuid": "595527f46400c543e04bf10e3ced5e2b39b766d0"
   },
   "outputs": [
    {
     "data": {
      "text/plain": [
       "0.0     0.550229\n",
       "27.0    0.026466\n",
       "26.0    0.025354\n",
       "25.0    0.023986\n",
       "24.0    0.023573\n",
       "Name: bd, dtype: float64"
      ]
     },
     "execution_count": 10,
     "metadata": {},
     "output_type": "execute_result"
    }
   ],
   "source": [
    "user_df['bd'].value_counts(1).head()"
   ]
  },
  {
   "cell_type": "markdown",
   "metadata": {
    "_uuid": "cdde1ee3a0476a6fcb67aff60e6820c9337ee7ba"
   },
   "source": [
    "...and 55% of age entries are 0 -- this will not be a very useful feature. Drop it"
   ]
  },
  {
   "cell_type": "markdown",
   "metadata": {
    "_uuid": "33c60bd1f0b9d7ae3235a0b863cc9f50a133c137"
   },
   "source": [
    "**gender**: A lot of missing/null entries. Do not include"
   ]
  },
  {
   "cell_type": "markdown",
   "metadata": {},
   "source": [
    "**registered_via**: small # of levels. Few # of nulls (see above). Include as categorical (even though it's unclear what these correspond to)"
   ]
  },
  {
   "cell_type": "code",
   "execution_count": 14,
   "metadata": {
    "_uuid": "5d16260b12650424ef189c5699e3e85ee129384d"
   },
   "outputs": [
    {
     "data": {
      "text/plain": [
       "array([ 3.,  7.,  9., nan,  4., 13.])"
      ]
     },
     "execution_count": 14,
     "metadata": {},
     "output_type": "execute_result"
    }
   ],
   "source": [
    "user_df['registered_via'].unique()"
   ]
  },
  {
   "cell_type": "code",
   "execution_count": 157,
   "metadata": {},
   "outputs": [],
   "source": [
    "user_df.drop(columns=['gender', 'city', 'bd'], inplace=True)\n",
    "user_df['registration_init_time'] = pd.to_datetime(user_df['registration_init_time'], format='%Y%m%d')"
   ]
  },
  {
   "cell_type": "markdown",
   "metadata": {
    "_uuid": "fbc8eb5066af7ad6fed19b51943d937c9197096f"
   },
   "source": [
    "### Logs"
   ]
  },
  {
   "cell_type": "code",
   "execution_count": 33,
   "metadata": {},
   "outputs": [
    {
     "data": {
      "text/html": [
       "<div>\n",
       "<style scoped>\n",
       "    .dataframe tbody tr th:only-of-type {\n",
       "        vertical-align: middle;\n",
       "    }\n",
       "\n",
       "    .dataframe tbody tr th {\n",
       "        vertical-align: top;\n",
       "    }\n",
       "\n",
       "    .dataframe thead th {\n",
       "        text-align: right;\n",
       "    }\n",
       "</style>\n",
       "<table border=\"1\" class=\"dataframe\">\n",
       "  <thead>\n",
       "    <tr style=\"text-align: right;\">\n",
       "      <th></th>\n",
       "      <th>msno</th>\n",
       "      <th>date</th>\n",
       "      <th>num_25</th>\n",
       "      <th>num_50</th>\n",
       "      <th>num_75</th>\n",
       "      <th>num_985</th>\n",
       "      <th>num_100</th>\n",
       "      <th>num_unq</th>\n",
       "      <th>total_secs</th>\n",
       "    </tr>\n",
       "  </thead>\n",
       "  <tbody>\n",
       "    <tr>\n",
       "      <th>0</th>\n",
       "      <td>u9E91QDTvHLq6NXjEaWv8u4QIqhrHk72kE+w31Gnhdg=</td>\n",
       "      <td>20170331</td>\n",
       "      <td>8</td>\n",
       "      <td>4</td>\n",
       "      <td>0</td>\n",
       "      <td>1</td>\n",
       "      <td>21</td>\n",
       "      <td>18</td>\n",
       "      <td>6309.273</td>\n",
       "    </tr>\n",
       "    <tr>\n",
       "      <th>1</th>\n",
       "      <td>nTeWW/eOZA/UHKdD5L7DEqKKFTjaAj3ALLPoAWsU8n0=</td>\n",
       "      <td>20170330</td>\n",
       "      <td>2</td>\n",
       "      <td>2</td>\n",
       "      <td>1</td>\n",
       "      <td>0</td>\n",
       "      <td>9</td>\n",
       "      <td>11</td>\n",
       "      <td>2390.699</td>\n",
       "    </tr>\n",
       "    <tr>\n",
       "      <th>2</th>\n",
       "      <td>2UqkWXwZbIjs03dHLU9KHJNNEvEkZVzm69f3jCS+uLI=</td>\n",
       "      <td>20170331</td>\n",
       "      <td>52</td>\n",
       "      <td>3</td>\n",
       "      <td>5</td>\n",
       "      <td>3</td>\n",
       "      <td>84</td>\n",
       "      <td>110</td>\n",
       "      <td>23203.337</td>\n",
       "    </tr>\n",
       "    <tr>\n",
       "      <th>3</th>\n",
       "      <td>ycwLc+m2O0a85jSLALtr941AaZt9ai8Qwlg9n0Nql5U=</td>\n",
       "      <td>20170331</td>\n",
       "      <td>176</td>\n",
       "      <td>4</td>\n",
       "      <td>2</td>\n",
       "      <td>2</td>\n",
       "      <td>19</td>\n",
       "      <td>191</td>\n",
       "      <td>7100.454</td>\n",
       "    </tr>\n",
       "    <tr>\n",
       "      <th>4</th>\n",
       "      <td>EGcbTofOSOkMmQyN1NMLxHEXJ1yV3t/JdhGwQ9wXjnI=</td>\n",
       "      <td>20170331</td>\n",
       "      <td>2</td>\n",
       "      <td>1</td>\n",
       "      <td>0</td>\n",
       "      <td>1</td>\n",
       "      <td>112</td>\n",
       "      <td>93</td>\n",
       "      <td>28401.558</td>\n",
       "    </tr>\n",
       "  </tbody>\n",
       "</table>\n",
       "</div>"
      ],
      "text/plain": [
       "                                           msno      date  num_25  num_50  \\\n",
       "0  u9E91QDTvHLq6NXjEaWv8u4QIqhrHk72kE+w31Gnhdg=  20170331       8       4   \n",
       "1  nTeWW/eOZA/UHKdD5L7DEqKKFTjaAj3ALLPoAWsU8n0=  20170330       2       2   \n",
       "2  2UqkWXwZbIjs03dHLU9KHJNNEvEkZVzm69f3jCS+uLI=  20170331      52       3   \n",
       "3  ycwLc+m2O0a85jSLALtr941AaZt9ai8Qwlg9n0Nql5U=  20170331     176       4   \n",
       "4  EGcbTofOSOkMmQyN1NMLxHEXJ1yV3t/JdhGwQ9wXjnI=  20170331       2       1   \n",
       "\n",
       "   num_75  num_985  num_100  num_unq  total_secs  \n",
       "0       0        1       21       18    6309.273  \n",
       "1       1        0        9       11    2390.699  \n",
       "2       5        3       84      110   23203.337  \n",
       "3       2        2       19      191    7100.454  \n",
       "4       0        1      112       93   28401.558  "
      ]
     },
     "execution_count": 33,
     "metadata": {},
     "output_type": "execute_result"
    }
   ],
   "source": [
    "logs_df.head()"
   ]
  },
  {
   "cell_type": "markdown",
   "metadata": {},
   "source": [
    "1. Summarize song data"
   ]
  },
  {
   "cell_type": "code",
   "execution_count": 34,
   "metadata": {},
   "outputs": [],
   "source": [
    "# logs: summarize data\n",
    "logs_df['num_songs'] = (logs_df['num_25'] + logs_df['num_50'] + logs_df['num_75'] \n",
    "                        + logs_df['num_985'] + logs_df['num_100'])\n",
    "logs_df['full_pct'] = logs_df['num_100']) / logs_df['num_songs']\n",
    "logs_df['short_pct'] = logs_df['num_25'] / logs_df['num_songs']"
   ]
  },
  {
   "cell_type": "markdown",
   "metadata": {},
   "source": [
    "Check distributions"
   ]
  },
  {
   "cell_type": "code",
   "execution_count": 35,
   "metadata": {
    "_uuid": "467988c3b0bd03ed1555ef455ee2ae6c456bf8bf"
   },
   "outputs": [
    {
     "data": {
      "image/png": "[encoded data removed]",
      "text/plain": [
       "<Figure size 576x360 with 4 Axes>"
      ]
     },
     "metadata": {
      "needs_background": "light"
     },
     "output_type": "display_data"
    }
   ],
   "source": [
    "cols_to_plot = ['num_songs', 'full_pct', 'short_pct', 'total_secs']\n",
    "fig, ax = plt.subplots(2,2, figsize=(8,5))\n",
    "i = 1\n",
    "for col in cols_to_plot:\n",
    "    plt.subplot(2,2,i)\n",
    "    sns.distplot(logs_df[col].values)\n",
    "    plt.title(col, y=0.9)\n",
    "    i += 1"
   ]
  },
  {
   "cell_type": "markdown",
   "metadata": {
    "_uuid": "d054bf630c6af439e57584564de26ae9f4321dca"
   },
   "source": [
    "num_songs & total_secs look odd. Investigate:\n",
    "\n",
    "There can't be more than 86,400 seconds in a day"
   ]
  },
  {
   "cell_type": "code",
   "execution_count": 36,
   "metadata": {
    "_uuid": "c7c18e69321eefd5e5f295f9380908a72b4e13e3"
   },
   "outputs": [
    {
     "data": {
      "text/plain": [
       "86400"
      ]
     },
     "execution_count": 36,
     "metadata": {},
     "output_type": "execute_result"
    }
   ],
   "source": [
    "sec_in_day = 24*60*60\n",
    "sec_in_day"
   ]
  },
  {
   "cell_type": "code",
   "execution_count": 37,
   "metadata": {
    "_uuid": "33bb9f3c64265878918987f5886fc1f85e1a7b6c"
   },
   "outputs": [
    {
     "data": {
      "text/plain": [
       "<matplotlib.axes._subplots.AxesSubplot at 0x1a19729da0>"
      ]
     },
     "execution_count": 37,
     "metadata": {},
     "output_type": "execute_result"
    },
    {
     "data": {
      "image/png": "[encoded data removed]",
      "text/plain": [
       "<Figure size 432x288 with 1 Axes>"
      ]
     },
     "metadata": {
      "needs_background": "light"
     },
     "output_type": "display_data"
    }
   ],
   "source": [
    "test = logs_df[logs_df['total_secs'] < sec_in_day]\n",
    "sns.distplot(test['total_secs'])"
   ]
  },
  {
   "cell_type": "markdown",
   "metadata": {
    "_uuid": "cac6d02cf9d80b23b1590c8a76394038f027fff2"
   },
   "source": [
    "Dropping entries whose total_seconds was greater than the length of one day makes the distribution look more reasonable."
   ]
  },
  {
   "cell_type": "code",
   "execution_count": 38,
   "metadata": {},
   "outputs": [],
   "source": [
    "# Drop any entries whose total_seconds are greater than the # of seconds in a day\n",
    "logs_df = logs_df[logs_df['total_secs'] < sec_in_day]"
   ]
  },
  {
   "cell_type": "code",
   "execution_count": 39,
   "metadata": {
    "_uuid": "9ab5662d3417ac6981c0ca2fda824a3c1382278a"
   },
   "outputs": [
    {
     "data": {
      "text/plain": [
       "<matplotlib.axes._subplots.AxesSubplot at 0x1a19f08518>"
      ]
     },
     "execution_count": 39,
     "metadata": {},
     "output_type": "execute_result"
    },
    {
     "data": {
      "image/png": "[encoded data removed]",
      "text/plain": [
       "<Figure size 432x288 with 1 Axes>"
      ]
     },
     "metadata": {
      "needs_background": "light"
     },
     "output_type": "display_data"
    }
   ],
   "source": [
    "sns.distplot(test['num_songs'])"
   ]
  },
  {
   "cell_type": "markdown",
   "metadata": {
    "_uuid": "2fa0b7a6fb18daabc51d21b7ec4e35e908d2cceb"
   },
   "source": [
    "num_songs still has a long tail, though max is reduced from 40,000 to 6,000. Investigate a bit further?"
   ]
  },
  {
   "cell_type": "code",
   "execution_count": 41,
   "metadata": {
    "_uuid": "54adf2ffedba7e6c904777d5d30d41bf6d7af1f3"
   },
   "outputs": [
    {
     "name": "stderr",
     "output_type": "stream",
     "text": [
      "/Users/kendra/anaconda3/lib/python3.6/site-packages/ipykernel_launcher.py:2: SettingWithCopyWarning: \n",
      "A value is trying to be set on a copy of a slice from a DataFrame\n",
      "\n",
      "See the caveats in the documentation: http://pandas.pydata.org/pandas-docs/stable/indexing.html#indexing-view-versus-copy\n",
      "  \n"
     ]
    },
    {
     "data": {
      "text/html": [
       "<div>\n",
       "<style scoped>\n",
       "    .dataframe tbody tr th:only-of-type {\n",
       "        vertical-align: middle;\n",
       "    }\n",
       "\n",
       "    .dataframe tbody tr th {\n",
       "        vertical-align: top;\n",
       "    }\n",
       "\n",
       "    .dataframe thead th {\n",
       "        text-align: right;\n",
       "    }\n",
       "</style>\n",
       "<table border=\"1\" class=\"dataframe\">\n",
       "  <thead>\n",
       "    <tr style=\"text-align: right;\">\n",
       "      <th></th>\n",
       "      <th>msno</th>\n",
       "      <th>date</th>\n",
       "      <th>num_25</th>\n",
       "      <th>num_50</th>\n",
       "      <th>num_75</th>\n",
       "      <th>num_985</th>\n",
       "      <th>num_100</th>\n",
       "      <th>num_unq</th>\n",
       "      <th>total_secs</th>\n",
       "      <th>num_songs</th>\n",
       "      <th>full_pct</th>\n",
       "      <th>short_pct</th>\n",
       "    </tr>\n",
       "  </thead>\n",
       "  <tbody>\n",
       "    <tr>\n",
       "      <th>17059972</th>\n",
       "      <td>7BZG2lfVLlxqRCObINP+5Df/4qT6JPkWDjCt5DpgYZw=</td>\n",
       "      <td>20170304</td>\n",
       "      <td>5639</td>\n",
       "      <td>2</td>\n",
       "      <td>1</td>\n",
       "      <td>0</td>\n",
       "      <td>202</td>\n",
       "      <td>38</td>\n",
       "      <td>54517.972</td>\n",
       "      <td>5844</td>\n",
       "      <td>0.034565</td>\n",
       "      <td>0.964921</td>\n",
       "    </tr>\n",
       "    <tr>\n",
       "      <th>8222868</th>\n",
       "      <td>9l99IEY5/QEr8WQPTCdLgJ+KEWgBhzqh07D35B9Ovpo=</td>\n",
       "      <td>20170319</td>\n",
       "      <td>5213</td>\n",
       "      <td>92</td>\n",
       "      <td>43</td>\n",
       "      <td>35</td>\n",
       "      <td>74</td>\n",
       "      <td>4925</td>\n",
       "      <td>56495.594</td>\n",
       "      <td>5457</td>\n",
       "      <td>0.013561</td>\n",
       "      <td>0.955287</td>\n",
       "    </tr>\n",
       "    <tr>\n",
       "      <th>7046095</th>\n",
       "      <td>BwsZl/usCkpcT++8DjpwFOY7WkicBtYBGo6ggB9cPY4=</td>\n",
       "      <td>20170328</td>\n",
       "      <td>4357</td>\n",
       "      <td>57</td>\n",
       "      <td>17</td>\n",
       "      <td>13</td>\n",
       "      <td>15</td>\n",
       "      <td>103</td>\n",
       "      <td>30922.388</td>\n",
       "      <td>4459</td>\n",
       "      <td>0.003364</td>\n",
       "      <td>0.977125</td>\n",
       "    </tr>\n",
       "    <tr>\n",
       "      <th>4648064</th>\n",
       "      <td>BwsZl/usCkpcT++8DjpwFOY7WkicBtYBGo6ggB9cPY4=</td>\n",
       "      <td>20170326</td>\n",
       "      <td>4312</td>\n",
       "      <td>51</td>\n",
       "      <td>16</td>\n",
       "      <td>7</td>\n",
       "      <td>12</td>\n",
       "      <td>92</td>\n",
       "      <td>29334.643</td>\n",
       "      <td>4398</td>\n",
       "      <td>0.002729</td>\n",
       "      <td>0.980446</td>\n",
       "    </tr>\n",
       "    <tr>\n",
       "      <th>14349285</th>\n",
       "      <td>BwsZl/usCkpcT++8DjpwFOY7WkicBtYBGo6ggB9cPY4=</td>\n",
       "      <td>20170327</td>\n",
       "      <td>4155</td>\n",
       "      <td>53</td>\n",
       "      <td>14</td>\n",
       "      <td>7</td>\n",
       "      <td>16</td>\n",
       "      <td>97</td>\n",
       "      <td>27183.580</td>\n",
       "      <td>4245</td>\n",
       "      <td>0.003769</td>\n",
       "      <td>0.978799</td>\n",
       "    </tr>\n",
       "    <tr>\n",
       "      <th>8519816</th>\n",
       "      <td>BwsZl/usCkpcT++8DjpwFOY7WkicBtYBGo6ggB9cPY4=</td>\n",
       "      <td>20170329</td>\n",
       "      <td>3991</td>\n",
       "      <td>23</td>\n",
       "      <td>10</td>\n",
       "      <td>9</td>\n",
       "      <td>9</td>\n",
       "      <td>98</td>\n",
       "      <td>21137.749</td>\n",
       "      <td>4042</td>\n",
       "      <td>0.002227</td>\n",
       "      <td>0.987382</td>\n",
       "    </tr>\n",
       "    <tr>\n",
       "      <th>2198395</th>\n",
       "      <td>9l99IEY5/QEr8WQPTCdLgJ+KEWgBhzqh07D35B9Ovpo=</td>\n",
       "      <td>20170317</td>\n",
       "      <td>3799</td>\n",
       "      <td>51</td>\n",
       "      <td>16</td>\n",
       "      <td>5</td>\n",
       "      <td>12</td>\n",
       "      <td>3547</td>\n",
       "      <td>26393.951</td>\n",
       "      <td>3883</td>\n",
       "      <td>0.003090</td>\n",
       "      <td>0.978367</td>\n",
       "    </tr>\n",
       "    <tr>\n",
       "      <th>18240058</th>\n",
       "      <td>9l99IEY5/QEr8WQPTCdLgJ+KEWgBhzqh07D35B9Ovpo=</td>\n",
       "      <td>20170321</td>\n",
       "      <td>3644</td>\n",
       "      <td>51</td>\n",
       "      <td>40</td>\n",
       "      <td>21</td>\n",
       "      <td>68</td>\n",
       "      <td>3016</td>\n",
       "      <td>42199.007</td>\n",
       "      <td>3824</td>\n",
       "      <td>0.017782</td>\n",
       "      <td>0.952929</td>\n",
       "    </tr>\n",
       "    <tr>\n",
       "      <th>15508580</th>\n",
       "      <td>BwsZl/usCkpcT++8DjpwFOY7WkicBtYBGo6ggB9cPY4=</td>\n",
       "      <td>20170323</td>\n",
       "      <td>3456</td>\n",
       "      <td>40</td>\n",
       "      <td>12</td>\n",
       "      <td>5</td>\n",
       "      <td>9</td>\n",
       "      <td>85</td>\n",
       "      <td>19409.655</td>\n",
       "      <td>3522</td>\n",
       "      <td>0.002555</td>\n",
       "      <td>0.981261</td>\n",
       "    </tr>\n",
       "    <tr>\n",
       "      <th>12389880</th>\n",
       "      <td>9l99IEY5/QEr8WQPTCdLgJ+KEWgBhzqh07D35B9Ovpo=</td>\n",
       "      <td>20170318</td>\n",
       "      <td>3349</td>\n",
       "      <td>66</td>\n",
       "      <td>27</td>\n",
       "      <td>15</td>\n",
       "      <td>52</td>\n",
       "      <td>3237</td>\n",
       "      <td>34725.232</td>\n",
       "      <td>3509</td>\n",
       "      <td>0.014819</td>\n",
       "      <td>0.954403</td>\n",
       "    </tr>\n",
       "  </tbody>\n",
       "</table>\n",
       "</div>"
      ],
      "text/plain": [
       "                                                  msno      date  num_25  \\\n",
       "17059972  7BZG2lfVLlxqRCObINP+5Df/4qT6JPkWDjCt5DpgYZw=  20170304    5639   \n",
       "8222868   9l99IEY5/QEr8WQPTCdLgJ+KEWgBhzqh07D35B9Ovpo=  20170319    5213   \n",
       "7046095   BwsZl/usCkpcT++8DjpwFOY7WkicBtYBGo6ggB9cPY4=  20170328    4357   \n",
       "4648064   BwsZl/usCkpcT++8DjpwFOY7WkicBtYBGo6ggB9cPY4=  20170326    4312   \n",
       "14349285  BwsZl/usCkpcT++8DjpwFOY7WkicBtYBGo6ggB9cPY4=  20170327    4155   \n",
       "8519816   BwsZl/usCkpcT++8DjpwFOY7WkicBtYBGo6ggB9cPY4=  20170329    3991   \n",
       "2198395   9l99IEY5/QEr8WQPTCdLgJ+KEWgBhzqh07D35B9Ovpo=  20170317    3799   \n",
       "18240058  9l99IEY5/QEr8WQPTCdLgJ+KEWgBhzqh07D35B9Ovpo=  20170321    3644   \n",
       "15508580  BwsZl/usCkpcT++8DjpwFOY7WkicBtYBGo6ggB9cPY4=  20170323    3456   \n",
       "12389880  9l99IEY5/QEr8WQPTCdLgJ+KEWgBhzqh07D35B9Ovpo=  20170318    3349   \n",
       "\n",
       "          num_50  num_75  num_985  num_100  num_unq  total_secs  num_songs  \\\n",
       "17059972       2       1        0      202       38   54517.972       5844   \n",
       "8222868       92      43       35       74     4925   56495.594       5457   \n",
       "7046095       57      17       13       15      103   30922.388       4459   \n",
       "4648064       51      16        7       12       92   29334.643       4398   \n",
       "14349285      53      14        7       16       97   27183.580       4245   \n",
       "8519816       23      10        9        9       98   21137.749       4042   \n",
       "2198395       51      16        5       12     3547   26393.951       3883   \n",
       "18240058      51      40       21       68     3016   42199.007       3824   \n",
       "15508580      40      12        5        9       85   19409.655       3522   \n",
       "12389880      66      27       15       52     3237   34725.232       3509   \n",
       "\n",
       "          full_pct  short_pct  \n",
       "17059972  0.034565   0.964921  \n",
       "8222868   0.013561   0.955287  \n",
       "7046095   0.003364   0.977125  \n",
       "4648064   0.002729   0.980446  \n",
       "14349285  0.003769   0.978799  \n",
       "8519816   0.002227   0.987382  \n",
       "2198395   0.003090   0.978367  \n",
       "18240058  0.017782   0.952929  \n",
       "15508580  0.002555   0.981261  \n",
       "12389880  0.014819   0.954403  "
      ]
     },
     "execution_count": 41,
     "metadata": {},
     "output_type": "execute_result"
    }
   ],
   "source": [
    "test = logs_df[(logs_df['num_songs'] > 100)]\n",
    "test.sort_values(by='num_songs', ascending=False, inplace=True)\n",
    "test.head(10)"
   ]
  },
  {
   "cell_type": "code",
   "execution_count": 42,
   "metadata": {
    "_uuid": "f1a6dfa8b8e5bc1f0b84a441542c1c08fc99cb4b"
   },
   "outputs": [
    {
     "data": {
      "text/plain": [
       "count    1.693897e+06\n",
       "mean     1.502464e+02\n",
       "std      5.575340e+01\n",
       "min      1.010000e+02\n",
       "25%      1.150000e+02\n",
       "50%      1.350000e+02\n",
       "75%      1.660000e+02\n",
       "max      5.844000e+03\n",
       "Name: num_songs, dtype: float64"
      ]
     },
     "execution_count": 42,
     "metadata": {},
     "output_type": "execute_result"
    }
   ],
   "source": [
    "test['num_songs'].describe()"
   ]
  },
  {
   "cell_type": "markdown",
   "metadata": {
    "_uuid": "a7ac60249a4bf46fa0108b2345402356f0977f84"
   },
   "source": [
    "I think this is reasonable -- some people just burn through a lot of songs in one day. Don't drop any further entries based on num_songs, for now."
   ]
  },
  {
   "cell_type": "code",
   "execution_count": 43,
   "metadata": {
    "_uuid": "106a5ab6900c3fe8f6729493441d5ad3a1c1dde4"
   },
   "outputs": [
    {
     "data": {
      "text/html": [
       "<div>\n",
       "<style scoped>\n",
       "    .dataframe tbody tr th:only-of-type {\n",
       "        vertical-align: middle;\n",
       "    }\n",
       "\n",
       "    .dataframe tbody tr th {\n",
       "        vertical-align: top;\n",
       "    }\n",
       "\n",
       "    .dataframe thead th {\n",
       "        text-align: right;\n",
       "    }\n",
       "</style>\n",
       "<table border=\"1\" class=\"dataframe\">\n",
       "  <thead>\n",
       "    <tr style=\"text-align: right;\">\n",
       "      <th></th>\n",
       "      <th>msno</th>\n",
       "      <th>date</th>\n",
       "      <th>num_25</th>\n",
       "      <th>num_50</th>\n",
       "      <th>num_75</th>\n",
       "      <th>num_985</th>\n",
       "      <th>num_100</th>\n",
       "      <th>num_unq</th>\n",
       "      <th>total_secs</th>\n",
       "      <th>num_songs</th>\n",
       "      <th>full_pct</th>\n",
       "      <th>short_pct</th>\n",
       "    </tr>\n",
       "  </thead>\n",
       "  <tbody>\n",
       "    <tr>\n",
       "      <th>0</th>\n",
       "      <td>u9E91QDTvHLq6NXjEaWv8u4QIqhrHk72kE+w31Gnhdg=</td>\n",
       "      <td>20170331</td>\n",
       "      <td>8</td>\n",
       "      <td>4</td>\n",
       "      <td>0</td>\n",
       "      <td>1</td>\n",
       "      <td>21</td>\n",
       "      <td>18</td>\n",
       "      <td>6309.273</td>\n",
       "      <td>34</td>\n",
       "      <td>0.617647</td>\n",
       "      <td>0.235294</td>\n",
       "    </tr>\n",
       "    <tr>\n",
       "      <th>1</th>\n",
       "      <td>nTeWW/eOZA/UHKdD5L7DEqKKFTjaAj3ALLPoAWsU8n0=</td>\n",
       "      <td>20170330</td>\n",
       "      <td>2</td>\n",
       "      <td>2</td>\n",
       "      <td>1</td>\n",
       "      <td>0</td>\n",
       "      <td>9</td>\n",
       "      <td>11</td>\n",
       "      <td>2390.699</td>\n",
       "      <td>14</td>\n",
       "      <td>0.642857</td>\n",
       "      <td>0.142857</td>\n",
       "    </tr>\n",
       "    <tr>\n",
       "      <th>2</th>\n",
       "      <td>2UqkWXwZbIjs03dHLU9KHJNNEvEkZVzm69f3jCS+uLI=</td>\n",
       "      <td>20170331</td>\n",
       "      <td>52</td>\n",
       "      <td>3</td>\n",
       "      <td>5</td>\n",
       "      <td>3</td>\n",
       "      <td>84</td>\n",
       "      <td>110</td>\n",
       "      <td>23203.337</td>\n",
       "      <td>147</td>\n",
       "      <td>0.571429</td>\n",
       "      <td>0.353741</td>\n",
       "    </tr>\n",
       "    <tr>\n",
       "      <th>3</th>\n",
       "      <td>ycwLc+m2O0a85jSLALtr941AaZt9ai8Qwlg9n0Nql5U=</td>\n",
       "      <td>20170331</td>\n",
       "      <td>176</td>\n",
       "      <td>4</td>\n",
       "      <td>2</td>\n",
       "      <td>2</td>\n",
       "      <td>19</td>\n",
       "      <td>191</td>\n",
       "      <td>7100.454</td>\n",
       "      <td>203</td>\n",
       "      <td>0.093596</td>\n",
       "      <td>0.866995</td>\n",
       "    </tr>\n",
       "    <tr>\n",
       "      <th>4</th>\n",
       "      <td>EGcbTofOSOkMmQyN1NMLxHEXJ1yV3t/JdhGwQ9wXjnI=</td>\n",
       "      <td>20170331</td>\n",
       "      <td>2</td>\n",
       "      <td>1</td>\n",
       "      <td>0</td>\n",
       "      <td>1</td>\n",
       "      <td>112</td>\n",
       "      <td>93</td>\n",
       "      <td>28401.558</td>\n",
       "      <td>116</td>\n",
       "      <td>0.965517</td>\n",
       "      <td>0.017241</td>\n",
       "    </tr>\n",
       "  </tbody>\n",
       "</table>\n",
       "</div>"
      ],
      "text/plain": [
       "                                           msno      date  num_25  num_50  \\\n",
       "0  u9E91QDTvHLq6NXjEaWv8u4QIqhrHk72kE+w31Gnhdg=  20170331       8       4   \n",
       "1  nTeWW/eOZA/UHKdD5L7DEqKKFTjaAj3ALLPoAWsU8n0=  20170330       2       2   \n",
       "2  2UqkWXwZbIjs03dHLU9KHJNNEvEkZVzm69f3jCS+uLI=  20170331      52       3   \n",
       "3  ycwLc+m2O0a85jSLALtr941AaZt9ai8Qwlg9n0Nql5U=  20170331     176       4   \n",
       "4  EGcbTofOSOkMmQyN1NMLxHEXJ1yV3t/JdhGwQ9wXjnI=  20170331       2       1   \n",
       "\n",
       "   num_75  num_985  num_100  num_unq  total_secs  num_songs  full_pct  \\\n",
       "0       0        1       21       18    6309.273         34  0.617647   \n",
       "1       1        0        9       11    2390.699         14  0.642857   \n",
       "2       5        3       84      110   23203.337        147  0.571429   \n",
       "3       2        2       19      191    7100.454        203  0.093596   \n",
       "4       0        1      112       93   28401.558        116  0.965517   \n",
       "\n",
       "   short_pct  \n",
       "0   0.235294  \n",
       "1   0.142857  \n",
       "2   0.353741  \n",
       "3   0.866995  \n",
       "4   0.017241  "
      ]
     },
     "execution_count": 43,
     "metadata": {},
     "output_type": "execute_result"
    }
   ],
   "source": [
    "logs_df.head()"
   ]
  },
  {
   "cell_type": "markdown",
   "metadata": {},
   "source": [
    "#### Grouping"
   ]
  },
  {
   "cell_type": "code",
   "execution_count": 153,
   "metadata": {},
   "outputs": [],
   "source": [
    "log_grp_df = logs_df.groupby('msno').aggregate({'num_25':'mean', 'num_50':'mean','num_75':'mean',\n",
    "                                                'num_985':'mean','num_100':'mean','num_unq':'mean',\n",
    "                                                'num_songs':['mean','sum'], 'total_secs':['mean','sum','count'],\n",
    "                                                'full_pct':'mean', 'short_pct':'mean'})"
   ]
  },
  {
   "cell_type": "code",
   "execution_count": 48,
   "metadata": {
    "_uuid": "e4a3a36c9190d40c0abcbfd9a64b000497067282"
   },
   "outputs": [],
   "source": [
    "def fix_col_names(s):\n",
    "    if type(s) == tuple:\n",
    "        s = '_'.join(s)\n",
    "    return s"
   ]
  },
  {
   "cell_type": "code",
   "execution_count": 154,
   "metadata": {},
   "outputs": [],
   "source": [
    "log_grp_df.columns = [fix_col_names(col) for col in log_grp_df.columns]"
   ]
  },
  {
   "cell_type": "code",
   "execution_count": 158,
   "metadata": {},
   "outputs": [],
   "source": [
    "# merge with user_df & fix column names\n",
    "user_df = pd.merge(user_df, log_grp_df, how='left', on='msno')\n",
    "user_df.rename(columns={'total_secs_count':'num_log_entries'}, inplace=True)"
   ]
  },
  {
   "cell_type": "markdown",
   "metadata": {
    "_uuid": "a4655bac11cbf0cc49e673fe854ff8b1e342835b"
   },
   "source": [
    "Interesting that not all users appear in logs."
   ]
  },
  {
   "cell_type": "code",
   "execution_count": 53,
   "metadata": {
    "_uuid": "91ea0cd3ff2ffe5a256b0979958a6ac2b1050dad"
   },
   "outputs": [
    {
     "data": {
      "text/plain": [
       "0    0.909019\n",
       "1    0.090981\n",
       "Name: is_churn, dtype: float64"
      ]
     },
     "execution_count": 53,
     "metadata": {},
     "output_type": "execute_result"
    }
   ],
   "source": [
    "test = user_df[user_df['num_songs_mean'].isna()]\n",
    "test['is_churn'].value_counts(1)"
   ]
  },
  {
   "cell_type": "code",
   "execution_count": 54,
   "metadata": {
    "_uuid": "b1f1e33ae93753079adaa1166902d2cffd548548"
   },
   "outputs": [
    {
     "data": {
      "text/plain": [
       "0    0.910058\n",
       "1    0.089942\n",
       "Name: is_churn, dtype: float64"
      ]
     },
     "execution_count": 54,
     "metadata": {},
     "output_type": "execute_result"
    }
   ],
   "source": [
    "user_df['is_churn'].value_counts(1)"
   ]
  },
  {
   "cell_type": "markdown",
   "metadata": {
    "_uuid": "e9465fb75f9337e08cc3a75f61021d92d48d145f"
   },
   "source": [
    "User being absent from log does not appear to be correlated to churn"
   ]
  },
  {
   "cell_type": "markdown",
   "metadata": {},
   "source": [
    "## Transactions"
   ]
  },
  {
   "cell_type": "code",
   "execution_count": 25,
   "metadata": {},
   "outputs": [
    {
     "data": {
      "text/html": [
       "<div>\n",
       "<style scoped>\n",
       "    .dataframe tbody tr th:only-of-type {\n",
       "        vertical-align: middle;\n",
       "    }\n",
       "\n",
       "    .dataframe tbody tr th {\n",
       "        vertical-align: top;\n",
       "    }\n",
       "\n",
       "    .dataframe thead th {\n",
       "        text-align: right;\n",
       "    }\n",
       "</style>\n",
       "<table border=\"1\" class=\"dataframe\">\n",
       "  <thead>\n",
       "    <tr style=\"text-align: right;\">\n",
       "      <th></th>\n",
       "      <th>msno</th>\n",
       "      <th>payment_method_id</th>\n",
       "      <th>payment_plan_days</th>\n",
       "      <th>plan_list_price</th>\n",
       "      <th>actual_amount_paid</th>\n",
       "      <th>is_auto_renew</th>\n",
       "      <th>transaction_date</th>\n",
       "      <th>membership_expire_date</th>\n",
       "      <th>is_cancel</th>\n",
       "    </tr>\n",
       "  </thead>\n",
       "  <tbody>\n",
       "    <tr>\n",
       "      <th>0</th>\n",
       "      <td>++6eU4LsQ3UQ20ILS7d99XK8WbiVgbyYL4FUgzZR134=</td>\n",
       "      <td>32</td>\n",
       "      <td>90</td>\n",
       "      <td>298</td>\n",
       "      <td>298</td>\n",
       "      <td>0</td>\n",
       "      <td>20170131</td>\n",
       "      <td>20170504</td>\n",
       "      <td>0</td>\n",
       "    </tr>\n",
       "    <tr>\n",
       "      <th>1</th>\n",
       "      <td>++lvGPJOinuin/8esghpnqdljm6NXS8m8Zwchc7gOeA=</td>\n",
       "      <td>41</td>\n",
       "      <td>30</td>\n",
       "      <td>149</td>\n",
       "      <td>149</td>\n",
       "      <td>1</td>\n",
       "      <td>20150809</td>\n",
       "      <td>20190412</td>\n",
       "      <td>0</td>\n",
       "    </tr>\n",
       "    <tr>\n",
       "      <th>2</th>\n",
       "      <td>+/GXNtXWQVfKrEDqYAzcSw2xSPYMKWNj22m+5XkVQZc=</td>\n",
       "      <td>36</td>\n",
       "      <td>30</td>\n",
       "      <td>180</td>\n",
       "      <td>180</td>\n",
       "      <td>1</td>\n",
       "      <td>20170303</td>\n",
       "      <td>20170422</td>\n",
       "      <td>0</td>\n",
       "    </tr>\n",
       "    <tr>\n",
       "      <th>3</th>\n",
       "      <td>+/w1UrZwyka4C9oNH3+Q8fUf3fD8R3EwWrx57ODIsqk=</td>\n",
       "      <td>36</td>\n",
       "      <td>30</td>\n",
       "      <td>180</td>\n",
       "      <td>180</td>\n",
       "      <td>1</td>\n",
       "      <td>20170329</td>\n",
       "      <td>20170331</td>\n",
       "      <td>1</td>\n",
       "    </tr>\n",
       "    <tr>\n",
       "      <th>4</th>\n",
       "      <td>+00PGzKTYqtnb65mPKPyeHXcZEwqiEzktpQksaaSC3c=</td>\n",
       "      <td>41</td>\n",
       "      <td>30</td>\n",
       "      <td>99</td>\n",
       "      <td>99</td>\n",
       "      <td>1</td>\n",
       "      <td>20170323</td>\n",
       "      <td>20170423</td>\n",
       "      <td>0</td>\n",
       "    </tr>\n",
       "  </tbody>\n",
       "</table>\n",
       "</div>"
      ],
      "text/plain": [
       "                                           msno  payment_method_id  \\\n",
       "0  ++6eU4LsQ3UQ20ILS7d99XK8WbiVgbyYL4FUgzZR134=                 32   \n",
       "1  ++lvGPJOinuin/8esghpnqdljm6NXS8m8Zwchc7gOeA=                 41   \n",
       "2  +/GXNtXWQVfKrEDqYAzcSw2xSPYMKWNj22m+5XkVQZc=                 36   \n",
       "3  +/w1UrZwyka4C9oNH3+Q8fUf3fD8R3EwWrx57ODIsqk=                 36   \n",
       "4  +00PGzKTYqtnb65mPKPyeHXcZEwqiEzktpQksaaSC3c=                 41   \n",
       "\n",
       "   payment_plan_days  plan_list_price  actual_amount_paid  is_auto_renew  \\\n",
       "0                 90              298                 298              0   \n",
       "1                 30              149                 149              1   \n",
       "2                 30              180                 180              1   \n",
       "3                 30              180                 180              1   \n",
       "4                 30               99                  99              1   \n",
       "\n",
       "   transaction_date  membership_expire_date  is_cancel  \n",
       "0          20170131                20170504          0  \n",
       "1          20150809                20190412          0  \n",
       "2          20170303                20170422          0  \n",
       "3          20170329                20170331          1  \n",
       "4          20170323                20170423          0  "
      ]
     },
     "execution_count": 25,
     "metadata": {},
     "output_type": "execute_result"
    }
   ],
   "source": [
    "trans_df.head()"
   ]
  },
  {
   "cell_type": "code",
   "execution_count": 26,
   "metadata": {},
   "outputs": [
    {
     "name": "stdout",
     "output_type": "stream",
     "text": [
      "<class 'pandas.core.frame.DataFrame'>\n",
      "RangeIndex: 1431009 entries, 0 to 1431008\n",
      "Data columns (total 9 columns):\n",
      "msno                      1431009 non-null object\n",
      "payment_method_id         1431009 non-null int64\n",
      "payment_plan_days         1431009 non-null int64\n",
      "plan_list_price           1431009 non-null int64\n",
      "actual_amount_paid        1431009 non-null int64\n",
      "is_auto_renew             1431009 non-null int64\n",
      "transaction_date          1431009 non-null int64\n",
      "membership_expire_date    1431009 non-null int64\n",
      "is_cancel                 1431009 non-null int64\n",
      "dtypes: int64(8), object(1)\n",
      "memory usage: 98.3+ MB\n"
     ]
    }
   ],
   "source": [
    "trans_df.info()"
   ]
  },
  {
   "cell_type": "code",
   "execution_count": 66,
   "metadata": {},
   "outputs": [],
   "source": [
    "# convert dates\n",
    "trans_df['transaction_date'] = pd.to_datetime(trans_df['transaction_date'], format='%Y%m%d')\n",
    "trans_df['membership_expire_date'] = pd.to_datetime(trans_df['membership_expire_date'], format='%Y%m%d')"
   ]
  },
  {
   "cell_type": "code",
   "execution_count": 56,
   "metadata": {},
   "outputs": [
    {
     "data": {
      "text/html": [
       "<div>\n",
       "<style scoped>\n",
       "    .dataframe tbody tr th:only-of-type {\n",
       "        vertical-align: middle;\n",
       "    }\n",
       "\n",
       "    .dataframe tbody tr th {\n",
       "        vertical-align: top;\n",
       "    }\n",
       "\n",
       "    .dataframe thead th {\n",
       "        text-align: right;\n",
       "    }\n",
       "</style>\n",
       "<table border=\"1\" class=\"dataframe\">\n",
       "  <thead>\n",
       "    <tr style=\"text-align: right;\">\n",
       "      <th></th>\n",
       "      <th>payment_method_id</th>\n",
       "      <th>payment_plan_days</th>\n",
       "      <th>plan_list_price</th>\n",
       "      <th>actual_amount_paid</th>\n",
       "      <th>is_auto_renew</th>\n",
       "      <th>transaction_date</th>\n",
       "      <th>membership_expire_date</th>\n",
       "      <th>is_cancel</th>\n",
       "    </tr>\n",
       "  </thead>\n",
       "  <tbody>\n",
       "    <tr>\n",
       "      <th>count</th>\n",
       "      <td>1.431009e+06</td>\n",
       "      <td>1.431009e+06</td>\n",
       "      <td>1.431009e+06</td>\n",
       "      <td>1.431009e+06</td>\n",
       "      <td>1.431009e+06</td>\n",
       "      <td>1.431009e+06</td>\n",
       "      <td>1.431009e+06</td>\n",
       "      <td>1.431009e+06</td>\n",
       "    </tr>\n",
       "    <tr>\n",
       "      <th>mean</th>\n",
       "      <td>3.791835e+01</td>\n",
       "      <td>6.601770e+01</td>\n",
       "      <td>2.817870e+02</td>\n",
       "      <td>2.813172e+02</td>\n",
       "      <td>7.853025e-01</td>\n",
       "      <td>2.016848e+07</td>\n",
       "      <td>2.017110e+07</td>\n",
       "      <td>2.455121e-02</td>\n",
       "    </tr>\n",
       "    <tr>\n",
       "      <th>std</th>\n",
       "      <td>4.964805e+00</td>\n",
       "      <td>1.024864e+02</td>\n",
       "      <td>4.351861e+02</td>\n",
       "      <td>4.354200e+02</td>\n",
       "      <td>4.106124e-01</td>\n",
       "      <td>4.858797e+03</td>\n",
       "      <td>3.032367e+03</td>\n",
       "      <td>1.547529e-01</td>\n",
       "    </tr>\n",
       "    <tr>\n",
       "      <th>min</th>\n",
       "      <td>2.000000e+00</td>\n",
       "      <td>0.000000e+00</td>\n",
       "      <td>0.000000e+00</td>\n",
       "      <td>0.000000e+00</td>\n",
       "      <td>0.000000e+00</td>\n",
       "      <td>2.015010e+07</td>\n",
       "      <td>2.016042e+07</td>\n",
       "      <td>0.000000e+00</td>\n",
       "    </tr>\n",
       "    <tr>\n",
       "      <th>25%</th>\n",
       "      <td>3.600000e+01</td>\n",
       "      <td>3.000000e+01</td>\n",
       "      <td>9.900000e+01</td>\n",
       "      <td>9.900000e+01</td>\n",
       "      <td>1.000000e+00</td>\n",
       "      <td>2.017023e+07</td>\n",
       "      <td>2.017041e+07</td>\n",
       "      <td>0.000000e+00</td>\n",
       "    </tr>\n",
       "    <tr>\n",
       "      <th>50%</th>\n",
       "      <td>4.000000e+01</td>\n",
       "      <td>3.000000e+01</td>\n",
       "      <td>1.490000e+02</td>\n",
       "      <td>1.490000e+02</td>\n",
       "      <td>1.000000e+00</td>\n",
       "      <td>2.017031e+07</td>\n",
       "      <td>2.017042e+07</td>\n",
       "      <td>0.000000e+00</td>\n",
       "    </tr>\n",
       "    <tr>\n",
       "      <th>75%</th>\n",
       "      <td>4.100000e+01</td>\n",
       "      <td>3.000000e+01</td>\n",
       "      <td>1.490000e+02</td>\n",
       "      <td>1.490000e+02</td>\n",
       "      <td>1.000000e+00</td>\n",
       "      <td>2.017032e+07</td>\n",
       "      <td>2.017050e+07</td>\n",
       "      <td>0.000000e+00</td>\n",
       "    </tr>\n",
       "    <tr>\n",
       "      <th>max</th>\n",
       "      <td>4.100000e+01</td>\n",
       "      <td>4.500000e+02</td>\n",
       "      <td>2.000000e+03</td>\n",
       "      <td>2.000000e+03</td>\n",
       "      <td>1.000000e+00</td>\n",
       "      <td>2.017033e+07</td>\n",
       "      <td>2.036102e+07</td>\n",
       "      <td>1.000000e+00</td>\n",
       "    </tr>\n",
       "  </tbody>\n",
       "</table>\n",
       "</div>"
      ],
      "text/plain": [
       "       payment_method_id  payment_plan_days  plan_list_price  \\\n",
       "count       1.431009e+06       1.431009e+06     1.431009e+06   \n",
       "mean        3.791835e+01       6.601770e+01     2.817870e+02   \n",
       "std         4.964805e+00       1.024864e+02     4.351861e+02   \n",
       "min         2.000000e+00       0.000000e+00     0.000000e+00   \n",
       "25%         3.600000e+01       3.000000e+01     9.900000e+01   \n",
       "50%         4.000000e+01       3.000000e+01     1.490000e+02   \n",
       "75%         4.100000e+01       3.000000e+01     1.490000e+02   \n",
       "max         4.100000e+01       4.500000e+02     2.000000e+03   \n",
       "\n",
       "       actual_amount_paid  is_auto_renew  transaction_date  \\\n",
       "count        1.431009e+06   1.431009e+06      1.431009e+06   \n",
       "mean         2.813172e+02   7.853025e-01      2.016848e+07   \n",
       "std          4.354200e+02   4.106124e-01      4.858797e+03   \n",
       "min          0.000000e+00   0.000000e+00      2.015010e+07   \n",
       "25%          9.900000e+01   1.000000e+00      2.017023e+07   \n",
       "50%          1.490000e+02   1.000000e+00      2.017031e+07   \n",
       "75%          1.490000e+02   1.000000e+00      2.017032e+07   \n",
       "max          2.000000e+03   1.000000e+00      2.017033e+07   \n",
       "\n",
       "       membership_expire_date     is_cancel  \n",
       "count            1.431009e+06  1.431009e+06  \n",
       "mean             2.017110e+07  2.455121e-02  \n",
       "std              3.032367e+03  1.547529e-01  \n",
       "min              2.016042e+07  0.000000e+00  \n",
       "25%              2.017041e+07  0.000000e+00  \n",
       "50%              2.017042e+07  0.000000e+00  \n",
       "75%              2.017050e+07  0.000000e+00  \n",
       "max              2.036102e+07  1.000000e+00  "
      ]
     },
     "execution_count": 56,
     "metadata": {},
     "output_type": "execute_result"
    }
   ],
   "source": [
    "trans_df.describe()"
   ]
  },
  {
   "cell_type": "markdown",
   "metadata": {},
   "source": [
    "**is_auto_renew & is_cancel**: look OK (expect both to be either 0 or 1)"
   ]
  },
  {
   "cell_type": "code",
   "execution_count": 57,
   "metadata": {},
   "outputs": [
    {
     "data": {
      "text/plain": [
       "1    0.785303\n",
       "0    0.214697\n",
       "Name: is_auto_renew, dtype: float64"
      ]
     },
     "execution_count": 57,
     "metadata": {},
     "output_type": "execute_result"
    }
   ],
   "source": [
    "trans_df['is_auto_renew'].value_counts(1)"
   ]
  },
  {
   "cell_type": "code",
   "execution_count": 58,
   "metadata": {},
   "outputs": [
    {
     "data": {
      "text/plain": [
       "0    0.975449\n",
       "1    0.024551\n",
       "Name: is_cancel, dtype: float64"
      ]
     },
     "execution_count": 58,
     "metadata": {},
     "output_type": "execute_result"
    }
   ],
   "source": [
    "trans_df['is_cancel'].value_counts(1)"
   ]
  },
  {
   "cell_type": "markdown",
   "metadata": {},
   "source": [
    "**payment_method_id**"
   ]
  },
  {
   "cell_type": "code",
   "execution_count": 28,
   "metadata": {
    "_uuid": "3dedfcb19af3bb409c022c7f45caf211a2c44462"
   },
   "outputs": [
    {
     "data": {
      "image/png": "[encoded data removed]",
      "text/plain": [
       "<Figure size 576x360 with 1 Axes>"
      ]
     },
     "metadata": {
      "needs_background": "light"
     },
     "output_type": "display_data"
    }
   ],
   "source": [
    "data = trans_df['payment_method_id'].value_counts(1)\n",
    "labels = list(data.index)\n",
    "# print(labels)\n",
    "plt.figure(figsize=(8,5))\n",
    "plt.bar(np.arange(len(data)), data*100)\n",
    "plt.xticks(np.arange(len(data)), labels, rotation=90)\n",
    "plt.xlabel('Payment Method ID')\n",
    "plt.ylabel('% transactions');"
   ]
  },
  {
   "cell_type": "markdown",
   "metadata": {
    "_uuid": "20d5713d1c70111deb3af73ee58e321ef2402358"
   },
   "source": [
    "Too many to include all levels of payment_method_id; create column that indicates whether pmi is most common (41) or other"
   ]
  },
  {
   "cell_type": "code",
   "execution_count": 75,
   "metadata": {},
   "outputs": [],
   "source": [
    "trans_df['payment_method_most_common'] = trans_df['payment_method_id'].apply(lambda x: 1 if x == 41 else 0)"
   ]
  },
  {
   "cell_type": "markdown",
   "metadata": {},
   "source": [
    "**Other numerical**: check distributions"
   ]
  },
  {
   "cell_type": "code",
   "execution_count": 59,
   "metadata": {},
   "outputs": [],
   "source": [
    "cols_to_plot = ['payment_plan_days',\n",
    "       'plan_list_price',\n",
    "       'actual_amount_paid']"
   ]
  },
  {
   "cell_type": "code",
   "execution_count": 61,
   "metadata": {
    "_uuid": "0e96508f65f771294c667164a16e1e627438e811"
   },
   "outputs": [
    {
     "data": {
      "image/png": "[encoded data removed]",
      "text/plain": [
       "<Figure size 360x648 with 3 Axes>"
      ]
     },
     "metadata": {
      "needs_background": "light"
     },
     "output_type": "display_data"
    }
   ],
   "source": [
    "fig, ax = plt.subplots(3,1, figsize=(5,9))\n",
    "i = 1\n",
    "for col in cols_to_plot:\n",
    "    plt.subplot(3,1,i)\n",
    "    sns.distplot(trans_df[col].dropna())\n",
    "    plt.title(col, y=0.9)\n",
    "    i+=1"
   ]
  },
  {
   "cell_type": "markdown",
   "metadata": {},
   "source": [
    "These look OK"
   ]
  },
  {
   "cell_type": "markdown",
   "metadata": {},
   "source": [
    "Note: **plan_list_price & actual_amount_paid** are highly correlated, as we'd expect (see graph below). Create a 'plan_actual_diff' column. Keep all for now..."
   ]
  },
  {
   "cell_type": "code",
   "execution_count": 85,
   "metadata": {},
   "outputs": [
    {
     "data": {
      "image/png": "[encoded data removed]",
      "text/plain": [
       "<Figure size 432x288 with 1 Axes>"
      ]
     },
     "metadata": {
      "needs_background": "light"
     },
     "output_type": "display_data"
    }
   ],
   "source": [
    "trans_df.plot(x='plan_list_price', y='actual_amount_paid', kind='scatter');"
   ]
  },
  {
   "cell_type": "code",
   "execution_count": 71,
   "metadata": {},
   "outputs": [],
   "source": [
    "trans_df['plan_actual_diff'] = trans_df['plan_list_price'] - trans_df['actual_amount_paid']"
   ]
  },
  {
   "cell_type": "code",
   "execution_count": 72,
   "metadata": {},
   "outputs": [
    {
     "name": "stderr",
     "output_type": "stream",
     "text": [
      "/Users/kendra/anaconda3/lib/python3.6/site-packages/scipy/stats/stats.py:1713: FutureWarning: Using a non-tuple sequence for multidimensional indexing is deprecated; use `arr[tuple(seq)]` instead of `arr[seq]`. In the future this will be interpreted as an array index, `arr[np.array(seq)]`, which will result either in an error or a different result.\n",
      "  return np.add.reduce(sorted[indexer] * weights, axis=axis) / sumval\n"
     ]
    },
    {
     "data": {
      "text/plain": [
       "<matplotlib.axes._subplots.AxesSubplot at 0x1a19f0c828>"
      ]
     },
     "execution_count": 72,
     "metadata": {},
     "output_type": "execute_result"
    },
    {
     "data": {
      "image/png": "[encoded data removed]",
      "text/plain": [
       "<Figure size 432x288 with 1 Axes>"
      ]
     },
     "metadata": {
      "needs_background": "light"
     },
     "output_type": "display_data"
    }
   ],
   "source": [
    "sns.distplot(trans_df['plan_actual_diff'])"
   ]
  },
  {
   "cell_type": "markdown",
   "metadata": {},
   "source": [
    "### Grouping transactions by user\n",
    "Explore data of a few users to get idea of how best to aggregate transacation data"
   ]
  },
  {
   "cell_type": "code",
   "execution_count": 63,
   "metadata": {},
   "outputs": [],
   "source": [
    "def trans_by_user(msno, df):\n",
    "    return df[df['msno'] == msno]"
   ]
  },
  {
   "cell_type": "code",
   "execution_count": 68,
   "metadata": {},
   "outputs": [
    {
     "data": {
      "text/html": [
       "<div>\n",
       "<style scoped>\n",
       "    .dataframe tbody tr th:only-of-type {\n",
       "        vertical-align: middle;\n",
       "    }\n",
       "\n",
       "    .dataframe tbody tr th {\n",
       "        vertical-align: top;\n",
       "    }\n",
       "\n",
       "    .dataframe thead th {\n",
       "        text-align: right;\n",
       "    }\n",
       "</style>\n",
       "<table border=\"1\" class=\"dataframe\">\n",
       "  <thead>\n",
       "    <tr style=\"text-align: right;\">\n",
       "      <th></th>\n",
       "      <th>msno</th>\n",
       "      <th>payment_method_id</th>\n",
       "      <th>payment_plan_days</th>\n",
       "      <th>plan_list_price</th>\n",
       "      <th>actual_amount_paid</th>\n",
       "      <th>is_auto_renew</th>\n",
       "      <th>transaction_date</th>\n",
       "      <th>membership_expire_date</th>\n",
       "      <th>is_cancel</th>\n",
       "    </tr>\n",
       "  </thead>\n",
       "  <tbody>\n",
       "    <tr>\n",
       "      <th>14240</th>\n",
       "      <td>++lvGPJOinuin/8esghpnqdljm6NXS8m8Zwchc7gOeA=</td>\n",
       "      <td>41</td>\n",
       "      <td>30</td>\n",
       "      <td>149</td>\n",
       "      <td>149</td>\n",
       "      <td>1</td>\n",
       "      <td>2015-01-07</td>\n",
       "      <td>2017-06-12</td>\n",
       "      <td>0</td>\n",
       "    </tr>\n",
       "    <tr>\n",
       "      <th>443083</th>\n",
       "      <td>++lvGPJOinuin/8esghpnqdljm6NXS8m8Zwchc7gOeA=</td>\n",
       "      <td>41</td>\n",
       "      <td>30</td>\n",
       "      <td>149</td>\n",
       "      <td>119</td>\n",
       "      <td>1</td>\n",
       "      <td>2015-01-09</td>\n",
       "      <td>2017-08-13</td>\n",
       "      <td>0</td>\n",
       "    </tr>\n",
       "    <tr>\n",
       "      <th>171355</th>\n",
       "      <td>++lvGPJOinuin/8esghpnqdljm6NXS8m8Zwchc7gOeA=</td>\n",
       "      <td>41</td>\n",
       "      <td>30</td>\n",
       "      <td>149</td>\n",
       "      <td>149</td>\n",
       "      <td>1</td>\n",
       "      <td>2015-01-09</td>\n",
       "      <td>2017-07-13</td>\n",
       "      <td>0</td>\n",
       "    </tr>\n",
       "    <tr>\n",
       "      <th>85921</th>\n",
       "      <td>++lvGPJOinuin/8esghpnqdljm6NXS8m8Zwchc7gOeA=</td>\n",
       "      <td>41</td>\n",
       "      <td>30</td>\n",
       "      <td>149</td>\n",
       "      <td>149</td>\n",
       "      <td>1</td>\n",
       "      <td>2015-02-07</td>\n",
       "      <td>2017-09-10</td>\n",
       "      <td>0</td>\n",
       "    </tr>\n",
       "    <tr>\n",
       "      <th>1244979</th>\n",
       "      <td>++lvGPJOinuin/8esghpnqdljm6NXS8m8Zwchc7gOeA=</td>\n",
       "      <td>41</td>\n",
       "      <td>30</td>\n",
       "      <td>149</td>\n",
       "      <td>119</td>\n",
       "      <td>1</td>\n",
       "      <td>2015-02-09</td>\n",
       "      <td>2017-11-05</td>\n",
       "      <td>0</td>\n",
       "    </tr>\n",
       "    <tr>\n",
       "      <th>249717</th>\n",
       "      <td>++lvGPJOinuin/8esghpnqdljm6NXS8m8Zwchc7gOeA=</td>\n",
       "      <td>41</td>\n",
       "      <td>30</td>\n",
       "      <td>149</td>\n",
       "      <td>149</td>\n",
       "      <td>1</td>\n",
       "      <td>2015-02-09</td>\n",
       "      <td>2017-10-08</td>\n",
       "      <td>0</td>\n",
       "    </tr>\n",
       "    <tr>\n",
       "      <th>349937</th>\n",
       "      <td>++lvGPJOinuin/8esghpnqdljm6NXS8m8Zwchc7gOeA=</td>\n",
       "      <td>41</td>\n",
       "      <td>30</td>\n",
       "      <td>149</td>\n",
       "      <td>149</td>\n",
       "      <td>1</td>\n",
       "      <td>2015-03-07</td>\n",
       "      <td>2017-12-06</td>\n",
       "      <td>0</td>\n",
       "    </tr>\n",
       "    <tr>\n",
       "      <th>772949</th>\n",
       "      <td>++lvGPJOinuin/8esghpnqdljm6NXS8m8Zwchc7gOeA=</td>\n",
       "      <td>41</td>\n",
       "      <td>30</td>\n",
       "      <td>149</td>\n",
       "      <td>119</td>\n",
       "      <td>1</td>\n",
       "      <td>2015-03-09</td>\n",
       "      <td>2018-02-06</td>\n",
       "      <td>0</td>\n",
       "    </tr>\n",
       "    <tr>\n",
       "      <th>1137208</th>\n",
       "      <td>++lvGPJOinuin/8esghpnqdljm6NXS8m8Zwchc7gOeA=</td>\n",
       "      <td>41</td>\n",
       "      <td>30</td>\n",
       "      <td>149</td>\n",
       "      <td>149</td>\n",
       "      <td>1</td>\n",
       "      <td>2015-03-09</td>\n",
       "      <td>2018-01-06</td>\n",
       "      <td>0</td>\n",
       "    </tr>\n",
       "    <tr>\n",
       "      <th>515051</th>\n",
       "      <td>++lvGPJOinuin/8esghpnqdljm6NXS8m8Zwchc7gOeA=</td>\n",
       "      <td>41</td>\n",
       "      <td>30</td>\n",
       "      <td>149</td>\n",
       "      <td>149</td>\n",
       "      <td>1</td>\n",
       "      <td>2015-04-07</td>\n",
       "      <td>2018-03-08</td>\n",
       "      <td>0</td>\n",
       "    </tr>\n",
       "  </tbody>\n",
       "</table>\n",
       "</div>"
      ],
      "text/plain": [
       "                                                 msno  payment_method_id  \\\n",
       "14240    ++lvGPJOinuin/8esghpnqdljm6NXS8m8Zwchc7gOeA=                 41   \n",
       "443083   ++lvGPJOinuin/8esghpnqdljm6NXS8m8Zwchc7gOeA=                 41   \n",
       "171355   ++lvGPJOinuin/8esghpnqdljm6NXS8m8Zwchc7gOeA=                 41   \n",
       "85921    ++lvGPJOinuin/8esghpnqdljm6NXS8m8Zwchc7gOeA=                 41   \n",
       "1244979  ++lvGPJOinuin/8esghpnqdljm6NXS8m8Zwchc7gOeA=                 41   \n",
       "249717   ++lvGPJOinuin/8esghpnqdljm6NXS8m8Zwchc7gOeA=                 41   \n",
       "349937   ++lvGPJOinuin/8esghpnqdljm6NXS8m8Zwchc7gOeA=                 41   \n",
       "772949   ++lvGPJOinuin/8esghpnqdljm6NXS8m8Zwchc7gOeA=                 41   \n",
       "1137208  ++lvGPJOinuin/8esghpnqdljm6NXS8m8Zwchc7gOeA=                 41   \n",
       "515051   ++lvGPJOinuin/8esghpnqdljm6NXS8m8Zwchc7gOeA=                 41   \n",
       "\n",
       "         payment_plan_days  plan_list_price  actual_amount_paid  \\\n",
       "14240                   30              149                 149   \n",
       "443083                  30              149                 119   \n",
       "171355                  30              149                 149   \n",
       "85921                   30              149                 149   \n",
       "1244979                 30              149                 119   \n",
       "249717                  30              149                 149   \n",
       "349937                  30              149                 149   \n",
       "772949                  30              149                 119   \n",
       "1137208                 30              149                 149   \n",
       "515051                  30              149                 149   \n",
       "\n",
       "         is_auto_renew transaction_date membership_expire_date  is_cancel  \n",
       "14240                1       2015-01-07             2017-06-12          0  \n",
       "443083               1       2015-01-09             2017-08-13          0  \n",
       "171355               1       2015-01-09             2017-07-13          0  \n",
       "85921                1       2015-02-07             2017-09-10          0  \n",
       "1244979              1       2015-02-09             2017-11-05          0  \n",
       "249717               1       2015-02-09             2017-10-08          0  \n",
       "349937               1       2015-03-07             2017-12-06          0  \n",
       "772949               1       2015-03-09             2018-02-06          0  \n",
       "1137208              1       2015-03-09             2018-01-06          0  \n",
       "515051               1       2015-04-07             2018-03-08          0  "
      ]
     },
     "execution_count": 68,
     "metadata": {},
     "output_type": "execute_result"
    }
   ],
   "source": [
    "u1 = trans_by_user('++lvGPJOinuin/8esghpnqdljm6NXS8m8Zwchc7gOeA=', trans_df)\n",
    "u1.sort_values(by='transaction_date').head(10)"
   ]
  },
  {
   "cell_type": "markdown",
   "metadata": {},
   "source": [
    "Unclear why this user has several transactions in 1 month, for plans that last > 30 days. Presume these are errors in billing, or duplicate charges that were refunded.\n",
    "\n",
    "*--> Group first by user & month* Get mode for most features."
   ]
  },
  {
   "cell_type": "code",
   "execution_count": 69,
   "metadata": {},
   "outputs": [],
   "source": [
    "trans_df['transaction_month'] = pd.PeriodIndex(trans_df['transaction_date'], freq='M')"
   ]
  },
  {
   "cell_type": "code",
   "execution_count": 73,
   "metadata": {},
   "outputs": [],
   "source": [
    "# create UDF for calculting mode & max absolute value\n",
    "def agg_mode(x):\n",
    "    return stats.mode(x)[0][0]\n",
    "\n",
    "def abs_max(x):\n",
    "    return max(x, key=abs)"
   ]
  },
  {
   "cell_type": "code",
   "execution_count": 95,
   "metadata": {},
   "outputs": [],
   "source": [
    "trans_grp_df = trans_df.groupby(['msno','transaction_month']).aggregate({'payment_method_most_common':agg_mode,\n",
    "                                                               'payment_plan_days': agg_mode,\n",
    "                                                                'plan_list_price': agg_mode,\n",
    "                                                               'actual_amount_paid': agg_mode, \n",
    "                                                               'is_auto_renew': 'max',\n",
    "                                                               'is_cancel':'max', \n",
    "                                                               'plan_actual_diff': [abs_max, agg_mode]})"
   ]
  },
  {
   "cell_type": "code",
   "execution_count": 100,
   "metadata": {},
   "outputs": [],
   "source": [
    "trans_grp_df.columns = [fix_col_names(col) for col in trans_grp_df.columns]\n",
    "trans_grp_df.reset_index(inplace=True)"
   ]
  },
  {
   "cell_type": "code",
   "execution_count": 107,
   "metadata": {},
   "outputs": [
    {
     "data": {
      "text/html": [
       "<div>\n",
       "<style scoped>\n",
       "    .dataframe tbody tr th:only-of-type {\n",
       "        vertical-align: middle;\n",
       "    }\n",
       "\n",
       "    .dataframe tbody tr th {\n",
       "        vertical-align: top;\n",
       "    }\n",
       "\n",
       "    .dataframe thead th {\n",
       "        text-align: right;\n",
       "    }\n",
       "</style>\n",
       "<table border=\"1\" class=\"dataframe\">\n",
       "  <thead>\n",
       "    <tr style=\"text-align: right;\">\n",
       "      <th></th>\n",
       "      <th>msno</th>\n",
       "      <th>transaction_month</th>\n",
       "      <th>payment_method_most_common_agg_mode</th>\n",
       "      <th>payment_plan_days_agg_mode</th>\n",
       "      <th>plan_list_price_agg_mode</th>\n",
       "      <th>actual_amount_paid_agg_mode</th>\n",
       "      <th>is_auto_renew_max</th>\n",
       "      <th>is_cancel_max</th>\n",
       "      <th>plan_actual_diff_abs_max</th>\n",
       "      <th>plan_actual_diff_agg_mode</th>\n",
       "    </tr>\n",
       "  </thead>\n",
       "  <tbody>\n",
       "    <tr>\n",
       "      <th>232</th>\n",
       "      <td>++lvGPJOinuin/8esghpnqdljm6NXS8m8Zwchc7gOeA=</td>\n",
       "      <td>2015-01</td>\n",
       "      <td>1</td>\n",
       "      <td>30</td>\n",
       "      <td>149</td>\n",
       "      <td>149</td>\n",
       "      <td>1</td>\n",
       "      <td>0</td>\n",
       "      <td>30</td>\n",
       "      <td>0</td>\n",
       "    </tr>\n",
       "    <tr>\n",
       "      <th>233</th>\n",
       "      <td>++lvGPJOinuin/8esghpnqdljm6NXS8m8Zwchc7gOeA=</td>\n",
       "      <td>2015-02</td>\n",
       "      <td>1</td>\n",
       "      <td>30</td>\n",
       "      <td>149</td>\n",
       "      <td>149</td>\n",
       "      <td>1</td>\n",
       "      <td>0</td>\n",
       "      <td>30</td>\n",
       "      <td>0</td>\n",
       "    </tr>\n",
       "    <tr>\n",
       "      <th>234</th>\n",
       "      <td>++lvGPJOinuin/8esghpnqdljm6NXS8m8Zwchc7gOeA=</td>\n",
       "      <td>2015-03</td>\n",
       "      <td>1</td>\n",
       "      <td>30</td>\n",
       "      <td>149</td>\n",
       "      <td>149</td>\n",
       "      <td>1</td>\n",
       "      <td>0</td>\n",
       "      <td>30</td>\n",
       "      <td>0</td>\n",
       "    </tr>\n",
       "    <tr>\n",
       "      <th>235</th>\n",
       "      <td>++lvGPJOinuin/8esghpnqdljm6NXS8m8Zwchc7gOeA=</td>\n",
       "      <td>2015-04</td>\n",
       "      <td>1</td>\n",
       "      <td>30</td>\n",
       "      <td>149</td>\n",
       "      <td>149</td>\n",
       "      <td>1</td>\n",
       "      <td>0</td>\n",
       "      <td>30</td>\n",
       "      <td>0</td>\n",
       "    </tr>\n",
       "    <tr>\n",
       "      <th>236</th>\n",
       "      <td>++lvGPJOinuin/8esghpnqdljm6NXS8m8Zwchc7gOeA=</td>\n",
       "      <td>2015-05</td>\n",
       "      <td>1</td>\n",
       "      <td>0</td>\n",
       "      <td>0</td>\n",
       "      <td>149</td>\n",
       "      <td>1</td>\n",
       "      <td>1</td>\n",
       "      <td>-149</td>\n",
       "      <td>-149</td>\n",
       "    </tr>\n",
       "  </tbody>\n",
       "</table>\n",
       "</div>"
      ],
      "text/plain": [
       "                                             msno transaction_month  \\\n",
       "232  ++lvGPJOinuin/8esghpnqdljm6NXS8m8Zwchc7gOeA=           2015-01   \n",
       "233  ++lvGPJOinuin/8esghpnqdljm6NXS8m8Zwchc7gOeA=           2015-02   \n",
       "234  ++lvGPJOinuin/8esghpnqdljm6NXS8m8Zwchc7gOeA=           2015-03   \n",
       "235  ++lvGPJOinuin/8esghpnqdljm6NXS8m8Zwchc7gOeA=           2015-04   \n",
       "236  ++lvGPJOinuin/8esghpnqdljm6NXS8m8Zwchc7gOeA=           2015-05   \n",
       "\n",
       "     payment_method_most_common_agg_mode  payment_plan_days_agg_mode  \\\n",
       "232                                    1                          30   \n",
       "233                                    1                          30   \n",
       "234                                    1                          30   \n",
       "235                                    1                          30   \n",
       "236                                    1                           0   \n",
       "\n",
       "     plan_list_price_agg_mode  actual_amount_paid_agg_mode  is_auto_renew_max  \\\n",
       "232                       149                          149                  1   \n",
       "233                       149                          149                  1   \n",
       "234                       149                          149                  1   \n",
       "235                       149                          149                  1   \n",
       "236                         0                          149                  1   \n",
       "\n",
       "     is_cancel_max  plan_actual_diff_abs_max  plan_actual_diff_agg_mode  \n",
       "232              0                        30                          0  \n",
       "233              0                        30                          0  \n",
       "234              0                        30                          0  \n",
       "235              0                        30                          0  \n",
       "236              1                      -149                       -149  "
      ]
     },
     "execution_count": 107,
     "metadata": {},
     "output_type": "execute_result"
    }
   ],
   "source": [
    "u1g = trans_by_user('++lvGPJOinuin/8esghpnqdljm6NXS8m8Zwchc7gOeA=', trans_grp_df)\n",
    "u1g.head()"
   ]
  },
  {
   "cell_type": "markdown",
   "metadata": {},
   "source": [
    "Now our user has a single transaction entry per month.\n",
    "\n",
    "Group again, this time only by user. Get mode & sum for most features."
   ]
  },
  {
   "cell_type": "code",
   "execution_count": 108,
   "metadata": {},
   "outputs": [],
   "source": [
    "# this took a while, so I'm saving the input, so I can profile it later\n",
    "u.pkl_this('Data/profiler_input.pkl', trans_grp_df)"
   ]
  },
  {
   "cell_type": "code",
   "execution_count": 115,
   "metadata": {},
   "outputs": [],
   "source": [
    "trans_grp2_df = trans_grp_df.groupby('msno').aggregate({'payment_method_most_common_agg_mode':agg_mode,\n",
    "                                                'payment_plan_days_agg_mode': [agg_mode,'sum'],\n",
    "                                                'plan_list_price_agg_mode': [agg_mode, 'sum'],\n",
    "                                                'actual_amount_paid_agg_mode': [agg_mode, 'sum'],\n",
    "                                                'is_auto_renew_max': [agg_mode, 'sum'],\n",
    "                                                'is_cancel_max':[agg_mode, 'sum','count'],\n",
    "                                                'plan_actual_diff_abs_max':abs_max,\n",
    "                                                'plan_actual_diff_agg_mode':agg_mode})"
   ]
  },
  {
   "cell_type": "code",
   "execution_count": 117,
   "metadata": {},
   "outputs": [
    {
     "data": {
      "text/html": [
       "<div>\n",
       "<style scoped>\n",
       "    .dataframe tbody tr th:only-of-type {\n",
       "        vertical-align: middle;\n",
       "    }\n",
       "\n",
       "    .dataframe tbody tr th {\n",
       "        vertical-align: top;\n",
       "    }\n",
       "\n",
       "    .dataframe thead th {\n",
       "        text-align: right;\n",
       "    }\n",
       "</style>\n",
       "<table border=\"1\" class=\"dataframe\">\n",
       "  <thead>\n",
       "    <tr style=\"text-align: right;\">\n",
       "      <th></th>\n",
       "      <th>msno</th>\n",
       "      <th>payment_method_most_common_mode</th>\n",
       "      <th>payment_plan_days_mode</th>\n",
       "      <th>payment_plan_days_sum</th>\n",
       "      <th>plan_list_price_mode</th>\n",
       "      <th>plan_list_price_sum</th>\n",
       "      <th>actual_amount_paid_mode</th>\n",
       "      <th>actual_amount_paid_sum</th>\n",
       "      <th>is_auto_renew_mode</th>\n",
       "      <th>is_auto_renew_sum</th>\n",
       "      <th>is_cancel_mode</th>\n",
       "      <th>is_cancel_sum</th>\n",
       "      <th>trans_count</th>\n",
       "      <th>plan_actual_diff_abs_max</th>\n",
       "      <th>plan_actual_diff_mode</th>\n",
       "    </tr>\n",
       "  </thead>\n",
       "  <tbody>\n",
       "    <tr>\n",
       "      <th>0</th>\n",
       "      <td>+++IZseRRiQS9aaSkH6cMYU6bGDcxUieAi/tH67sC5s=</td>\n",
       "      <td>0</td>\n",
       "      <td>395</td>\n",
       "      <td>395</td>\n",
       "      <td>1599</td>\n",
       "      <td>1599</td>\n",
       "      <td>1599</td>\n",
       "      <td>1599</td>\n",
       "      <td>0</td>\n",
       "      <td>0</td>\n",
       "      <td>0</td>\n",
       "      <td>0</td>\n",
       "      <td>1</td>\n",
       "      <td>0</td>\n",
       "      <td>0</td>\n",
       "    </tr>\n",
       "    <tr>\n",
       "      <th>1</th>\n",
       "      <td>+++hVY1rZox/33YtvDgmKA2Frg/2qhkz12B9ylCvh8o=</td>\n",
       "      <td>1</td>\n",
       "      <td>30</td>\n",
       "      <td>30</td>\n",
       "      <td>99</td>\n",
       "      <td>99</td>\n",
       "      <td>99</td>\n",
       "      <td>99</td>\n",
       "      <td>1</td>\n",
       "      <td>1</td>\n",
       "      <td>0</td>\n",
       "      <td>0</td>\n",
       "      <td>1</td>\n",
       "      <td>0</td>\n",
       "      <td>0</td>\n",
       "    </tr>\n",
       "    <tr>\n",
       "      <th>2</th>\n",
       "      <td>+++l/EXNMLTijfLBa8p2TUVVVp2aFGSuUI/h7mLmthw=</td>\n",
       "      <td>0</td>\n",
       "      <td>30</td>\n",
       "      <td>60</td>\n",
       "      <td>149</td>\n",
       "      <td>298</td>\n",
       "      <td>149</td>\n",
       "      <td>298</td>\n",
       "      <td>1</td>\n",
       "      <td>2</td>\n",
       "      <td>0</td>\n",
       "      <td>0</td>\n",
       "      <td>2</td>\n",
       "      <td>0</td>\n",
       "      <td>0</td>\n",
       "    </tr>\n",
       "    <tr>\n",
       "      <th>3</th>\n",
       "      <td>+++snpr7pmobhLKUgSHTv/mpkqgBT0tQJ0zQj6qKrqc=</td>\n",
       "      <td>1</td>\n",
       "      <td>30</td>\n",
       "      <td>30</td>\n",
       "      <td>149</td>\n",
       "      <td>149</td>\n",
       "      <td>149</td>\n",
       "      <td>149</td>\n",
       "      <td>1</td>\n",
       "      <td>1</td>\n",
       "      <td>0</td>\n",
       "      <td>0</td>\n",
       "      <td>1</td>\n",
       "      <td>0</td>\n",
       "      <td>0</td>\n",
       "    </tr>\n",
       "    <tr>\n",
       "      <th>4</th>\n",
       "      <td>++/9R3sX37CjxbY/AaGvbwr3QkwElKBCtSvVzhCBDOk=</td>\n",
       "      <td>1</td>\n",
       "      <td>30</td>\n",
       "      <td>30</td>\n",
       "      <td>149</td>\n",
       "      <td>149</td>\n",
       "      <td>149</td>\n",
       "      <td>149</td>\n",
       "      <td>1</td>\n",
       "      <td>1</td>\n",
       "      <td>0</td>\n",
       "      <td>0</td>\n",
       "      <td>1</td>\n",
       "      <td>0</td>\n",
       "      <td>0</td>\n",
       "    </tr>\n",
       "  </tbody>\n",
       "</table>\n",
       "</div>"
      ],
      "text/plain": [
       "                                           msno  \\\n",
       "0  +++IZseRRiQS9aaSkH6cMYU6bGDcxUieAi/tH67sC5s=   \n",
       "1  +++hVY1rZox/33YtvDgmKA2Frg/2qhkz12B9ylCvh8o=   \n",
       "2  +++l/EXNMLTijfLBa8p2TUVVVp2aFGSuUI/h7mLmthw=   \n",
       "3  +++snpr7pmobhLKUgSHTv/mpkqgBT0tQJ0zQj6qKrqc=   \n",
       "4  ++/9R3sX37CjxbY/AaGvbwr3QkwElKBCtSvVzhCBDOk=   \n",
       "\n",
       "   payment_method_most_common_mode  payment_plan_days_mode  \\\n",
       "0                                0                     395   \n",
       "1                                1                      30   \n",
       "2                                0                      30   \n",
       "3                                1                      30   \n",
       "4                                1                      30   \n",
       "\n",
       "   payment_plan_days_sum  plan_list_price_mode  plan_list_price_sum  \\\n",
       "0                    395                  1599                 1599   \n",
       "1                     30                    99                   99   \n",
       "2                     60                   149                  298   \n",
       "3                     30                   149                  149   \n",
       "4                     30                   149                  149   \n",
       "\n",
       "   actual_amount_paid_mode  actual_amount_paid_sum  is_auto_renew_mode  \\\n",
       "0                     1599                    1599                   0   \n",
       "1                       99                      99                   1   \n",
       "2                      149                     298                   1   \n",
       "3                      149                     149                   1   \n",
       "4                      149                     149                   1   \n",
       "\n",
       "   is_auto_renew_sum  is_cancel_mode  is_cancel_sum  trans_count  \\\n",
       "0                  0               0              0            1   \n",
       "1                  1               0              0            1   \n",
       "2                  2               0              0            2   \n",
       "3                  1               0              0            1   \n",
       "4                  1               0              0            1   \n",
       "\n",
       "   plan_actual_diff_abs_max  plan_actual_diff_mode  \n",
       "0                         0                      0  \n",
       "1                         0                      0  \n",
       "2                         0                      0  \n",
       "3                         0                      0  \n",
       "4                         0                      0  "
      ]
     },
     "execution_count": 117,
     "metadata": {},
     "output_type": "execute_result"
    }
   ],
   "source": [
    "trans_grp2_df.reset_index(inplace=True)\n",
    "\n",
    "trans_grp2_df.columns = ['msno', 'payment_method_most_common_mode', 'payment_plan_days_mode', \n",
    "                         'payment_plan_days_sum', 'plan_list_price_mode', 'plan_list_price_sum', \n",
    "                         'actual_amount_paid_mode', 'actual_amount_paid_sum',\n",
    "                         'is_auto_renew_mode', 'is_auto_renew_sum', 'is_cancel_mode','is_cancel_sum', 'trans_count',\n",
    "                         'plan_actual_diff_abs_max', 'plan_actual_diff_mode']\n",
    "\n",
    "trans_grp2_df.head()"
   ]
  },
  {
   "cell_type": "markdown",
   "metadata": {},
   "source": [
    "Let's check how data aggregation worked for our user:"
   ]
  },
  {
   "cell_type": "code",
   "execution_count": 119,
   "metadata": {},
   "outputs": [
    {
     "data": {
      "text/plain": [
       "13"
      ]
     },
     "execution_count": 119,
     "metadata": {},
     "output_type": "execute_result"
    }
   ],
   "source": [
    "# expected number of transaction (trans_count)\n",
    "len(u1g)"
   ]
  },
  {
   "cell_type": "code",
   "execution_count": 118,
   "metadata": {},
   "outputs": [
    {
     "data": {
      "text/html": [
       "<div>\n",
       "<style scoped>\n",
       "    .dataframe tbody tr th:only-of-type {\n",
       "        vertical-align: middle;\n",
       "    }\n",
       "\n",
       "    .dataframe tbody tr th {\n",
       "        vertical-align: top;\n",
       "    }\n",
       "\n",
       "    .dataframe thead th {\n",
       "        text-align: right;\n",
       "    }\n",
       "</style>\n",
       "<table border=\"1\" class=\"dataframe\">\n",
       "  <thead>\n",
       "    <tr style=\"text-align: right;\">\n",
       "      <th></th>\n",
       "      <th>msno</th>\n",
       "      <th>payment_method_most_common_mode</th>\n",
       "      <th>payment_plan_days_mode</th>\n",
       "      <th>payment_plan_days_sum</th>\n",
       "      <th>plan_list_price_mode</th>\n",
       "      <th>plan_list_price_sum</th>\n",
       "      <th>actual_amount_paid_mode</th>\n",
       "      <th>actual_amount_paid_sum</th>\n",
       "      <th>is_auto_renew_mode</th>\n",
       "      <th>is_auto_renew_sum</th>\n",
       "      <th>is_cancel_mode</th>\n",
       "      <th>is_cancel_sum</th>\n",
       "      <th>trans_count</th>\n",
       "      <th>plan_actual_diff_abs_max</th>\n",
       "      <th>plan_actual_diff_mode</th>\n",
       "    </tr>\n",
       "  </thead>\n",
       "  <tbody>\n",
       "    <tr>\n",
       "      <th>209</th>\n",
       "      <td>++lvGPJOinuin/8esghpnqdljm6NXS8m8Zwchc7gOeA=</td>\n",
       "      <td>1</td>\n",
       "      <td>30</td>\n",
       "      <td>360</td>\n",
       "      <td>149</td>\n",
       "      <td>1768</td>\n",
       "      <td>149</td>\n",
       "      <td>1917</td>\n",
       "      <td>1</td>\n",
       "      <td>13</td>\n",
       "      <td>0</td>\n",
       "      <td>1</td>\n",
       "      <td>13</td>\n",
       "      <td>-149</td>\n",
       "      <td>0</td>\n",
       "    </tr>\n",
       "  </tbody>\n",
       "</table>\n",
       "</div>"
      ],
      "text/plain": [
       "                                             msno  \\\n",
       "209  ++lvGPJOinuin/8esghpnqdljm6NXS8m8Zwchc7gOeA=   \n",
       "\n",
       "     payment_method_most_common_mode  payment_plan_days_mode  \\\n",
       "209                                1                      30   \n",
       "\n",
       "     payment_plan_days_sum  plan_list_price_mode  plan_list_price_sum  \\\n",
       "209                    360                   149                 1768   \n",
       "\n",
       "     actual_amount_paid_mode  actual_amount_paid_sum  is_auto_renew_mode  \\\n",
       "209                      149                    1917                   1   \n",
       "\n",
       "     is_auto_renew_sum  is_cancel_mode  is_cancel_sum  trans_count  \\\n",
       "209                 13               0              1           13   \n",
       "\n",
       "     plan_actual_diff_abs_max  plan_actual_diff_mode  \n",
       "209                      -149                      0  "
      ]
     },
     "execution_count": 118,
     "metadata": {},
     "output_type": "execute_result"
    }
   ],
   "source": [
    "u1g2 = trans_by_user('++lvGPJOinuin/8esghpnqdljm6NXS8m8Zwchc7gOeA=', trans_grp2_df)\n",
    "u1g2"
   ]
  },
  {
   "cell_type": "markdown",
   "metadata": {},
   "source": [
    "Check that aggregations didn't result in any unexpected values:"
   ]
  },
  {
   "cell_type": "code",
   "execution_count": 130,
   "metadata": {},
   "outputs": [
    {
     "data": {
      "image/png": "[encoded data removed]",
      "text/plain": [
       "<Figure size 864x864 with 12 Axes>"
      ]
     },
     "metadata": {
      "needs_background": "light"
     },
     "output_type": "display_data"
    }
   ],
   "source": [
    "cols_to_plot = ['payment_plan_days_mode', \n",
    "                         'payment_plan_days_sum', 'plan_list_price_mode', 'plan_list_price_sum', \n",
    "                         'actual_amount_paid_mode', 'actual_amount_paid_sum',\n",
    "                         'is_auto_renew_sum', 'is_cancel_sum', 'trans_count',\n",
    "                         'plan_actual_diff_abs_max', 'plan_actual_diff_mode']\n",
    "\n",
    "n = len(cols_to_plot)\n",
    "c = n // 4 + 1\n",
    "\n",
    "fig, ax = plt.subplots(4, c, figsize=(12,12))\n",
    "i = 1\n",
    "for col in cols_to_plot:\n",
    "    plt.subplot(4,c,i)\n",
    "    sns.distplot(trans_grp2_df[col].dropna())\n",
    "    plt.xlabel('')\n",
    "    plt.title(col, y=0.85)\n",
    "    i+=1"
   ]
  },
  {
   "cell_type": "code",
   "execution_count": 131,
   "metadata": {},
   "outputs": [
    {
     "data": {
      "text/plain": [
       "count    1.197050e+06\n",
       "mean     2.896704e-02\n",
       "std      1.683553e-01\n",
       "min      0.000000e+00\n",
       "25%      0.000000e+00\n",
       "50%      0.000000e+00\n",
       "75%      0.000000e+00\n",
       "max      4.000000e+00\n",
       "Name: is_cancel_sum, dtype: float64"
      ]
     },
     "execution_count": 131,
     "metadata": {},
     "output_type": "execute_result"
    }
   ],
   "source": [
    "trans_grp2_df['is_cancel_sum'].describe()"
   ]
  },
  {
   "cell_type": "markdown",
   "metadata": {},
   "source": [
    "Merge with user_df & save"
   ]
  },
  {
   "cell_type": "code",
   "execution_count": 159,
   "metadata": {},
   "outputs": [],
   "source": [
    "user_df = pd.merge(user_df, trans_grp2_df, how='left', on='msno')\n",
    "u.pkl_this('Data/user_df.pkl', user_df)"
   ]
  },
  {
   "cell_type": "markdown",
   "metadata": {},
   "source": [
    "### A bit more EDA"
   ]
  },
  {
   "cell_type": "code",
   "execution_count": 123,
   "metadata": {},
   "outputs": [
    {
     "data": {
      "text/plain": [
       "0.7474159594627997"
      ]
     },
     "execution_count": 123,
     "metadata": {},
     "output_type": "execute_result"
    }
   ],
   "source": [
    "len(user_df.dropna()) / len(user_df)"
   ]
  },
  {
   "cell_type": "markdown",
   "metadata": {},
   "source": [
    "An unusual user: a single large transaction"
   ]
  },
  {
   "cell_type": "code",
   "execution_count": 125,
   "metadata": {},
   "outputs": [
    {
     "data": {
      "text/html": [
       "<div>\n",
       "<style scoped>\n",
       "    .dataframe tbody tr th:only-of-type {\n",
       "        vertical-align: middle;\n",
       "    }\n",
       "\n",
       "    .dataframe tbody tr th {\n",
       "        vertical-align: top;\n",
       "    }\n",
       "\n",
       "    .dataframe thead th {\n",
       "        text-align: right;\n",
       "    }\n",
       "</style>\n",
       "<table border=\"1\" class=\"dataframe\">\n",
       "  <thead>\n",
       "    <tr style=\"text-align: right;\">\n",
       "      <th></th>\n",
       "      <th>msno</th>\n",
       "      <th>payment_method_id</th>\n",
       "      <th>payment_plan_days</th>\n",
       "      <th>plan_list_price</th>\n",
       "      <th>actual_amount_paid</th>\n",
       "      <th>is_auto_renew</th>\n",
       "      <th>transaction_date</th>\n",
       "      <th>membership_expire_date</th>\n",
       "      <th>is_cancel</th>\n",
       "      <th>transaction_month</th>\n",
       "      <th>plan_actual_diff</th>\n",
       "      <th>payment_method_most_common</th>\n",
       "    </tr>\n",
       "  </thead>\n",
       "  <tbody>\n",
       "    <tr>\n",
       "      <th>249714</th>\n",
       "      <td>+++IZseRRiQS9aaSkH6cMYU6bGDcxUieAi/tH67sC5s=</td>\n",
       "      <td>22</td>\n",
       "      <td>395</td>\n",
       "      <td>1599</td>\n",
       "      <td>1599</td>\n",
       "      <td>0</td>\n",
       "      <td>2016-10-23</td>\n",
       "      <td>2018-02-06</td>\n",
       "      <td>0</td>\n",
       "      <td>2016-10</td>\n",
       "      <td>0</td>\n",
       "      <td>0</td>\n",
       "    </tr>\n",
       "  </tbody>\n",
       "</table>\n",
       "</div>"
      ],
      "text/plain": [
       "                                                msno  payment_method_id  \\\n",
       "249714  +++IZseRRiQS9aaSkH6cMYU6bGDcxUieAi/tH67sC5s=                 22   \n",
       "\n",
       "        payment_plan_days  plan_list_price  actual_amount_paid  is_auto_renew  \\\n",
       "249714                395             1599                1599              0   \n",
       "\n",
       "       transaction_date membership_expire_date  is_cancel transaction_month  \\\n",
       "249714       2016-10-23             2018-02-06          0           2016-10   \n",
       "\n",
       "        plan_actual_diff  payment_method_most_common  \n",
       "249714                 0                           0  "
      ]
     },
     "execution_count": 125,
     "metadata": {},
     "output_type": "execute_result"
    }
   ],
   "source": [
    "u2 = trans_by_user('+++IZseRRiQS9aaSkH6cMYU6bGDcxUieAi/tH67sC5s=', trans_grp2_df)\n",
    "u2.head()"
   ]
  },
  {
   "cell_type": "markdown",
   "metadata": {},
   "source": [
    "### Test dataset\n",
    "This data formed the basis for a Kaggle competition. The 'sample_submission' file is supposedly the test data to predict"
   ]
  },
  {
   "cell_type": "code",
   "execution_count": 133,
   "metadata": {},
   "outputs": [],
   "source": [
    "test_ids = pd.read_csv('Data/sample_submission_v2.csv')"
   ]
  },
  {
   "cell_type": "code",
   "execution_count": 139,
   "metadata": {},
   "outputs": [
    {
     "data": {
      "text/html": [
       "<div>\n",
       "<style scoped>\n",
       "    .dataframe tbody tr th:only-of-type {\n",
       "        vertical-align: middle;\n",
       "    }\n",
       "\n",
       "    .dataframe tbody tr th {\n",
       "        vertical-align: top;\n",
       "    }\n",
       "\n",
       "    .dataframe thead th {\n",
       "        text-align: right;\n",
       "    }\n",
       "</style>\n",
       "<table border=\"1\" class=\"dataframe\">\n",
       "  <thead>\n",
       "    <tr style=\"text-align: right;\">\n",
       "      <th></th>\n",
       "      <th>msno</th>\n",
       "      <th>is_churn</th>\n",
       "    </tr>\n",
       "  </thead>\n",
       "  <tbody>\n",
       "    <tr>\n",
       "      <th>0</th>\n",
       "      <td>4n+fXlyJvfQnTeKXTWT507Ll4JVYGrOC8LHCfwBmPE4=</td>\n",
       "      <td>0</td>\n",
       "    </tr>\n",
       "    <tr>\n",
       "      <th>1</th>\n",
       "      <td>aNmbC1GvFUxQyQUidCVmfbQ0YeCuwkPzEdQ0RwWyeZM=</td>\n",
       "      <td>0</td>\n",
       "    </tr>\n",
       "    <tr>\n",
       "      <th>2</th>\n",
       "      <td>rFC9eSG/tMuzpre6cwcMLZHEYM89xY02qcz7HL4//jc=</td>\n",
       "      <td>0</td>\n",
       "    </tr>\n",
       "    <tr>\n",
       "      <th>3</th>\n",
       "      <td>WZ59dLyrQcE7ft06MZ5dj40BnlYQY7PHgg/54+HaCSE=</td>\n",
       "      <td>0</td>\n",
       "    </tr>\n",
       "    <tr>\n",
       "      <th>4</th>\n",
       "      <td>aky/Iv8hMp1/V/yQHLtaVuEmmAxkB5GuasQZePJ7NU4=</td>\n",
       "      <td>0</td>\n",
       "    </tr>\n",
       "  </tbody>\n",
       "</table>\n",
       "</div>"
      ],
      "text/plain": [
       "                                           msno  is_churn\n",
       "0  4n+fXlyJvfQnTeKXTWT507Ll4JVYGrOC8LHCfwBmPE4=         0\n",
       "1  aNmbC1GvFUxQyQUidCVmfbQ0YeCuwkPzEdQ0RwWyeZM=         0\n",
       "2  rFC9eSG/tMuzpre6cwcMLZHEYM89xY02qcz7HL4//jc=         0\n",
       "3  WZ59dLyrQcE7ft06MZ5dj40BnlYQY7PHgg/54+HaCSE=         0\n",
       "4  aky/Iv8hMp1/V/yQHLtaVuEmmAxkB5GuasQZePJ7NU4=         0"
      ]
     },
     "execution_count": 139,
     "metadata": {},
     "output_type": "execute_result"
    }
   ],
   "source": [
    "test_ids.head()"
   ]
  },
  {
   "cell_type": "code",
   "execution_count": 134,
   "metadata": {},
   "outputs": [
    {
     "data": {
      "text/plain": [
       "(907471, 970960)"
      ]
     },
     "execution_count": 134,
     "metadata": {},
     "output_type": "execute_result"
    }
   ],
   "source": [
    "len(test_ids), len(churn_df)"
   ]
  },
  {
   "cell_type": "markdown",
   "metadata": {},
   "source": [
    "A rather large test data set relative to the train (churn_df = train)"
   ]
  },
  {
   "cell_type": "code",
   "execution_count": 141,
   "metadata": {},
   "outputs": [
    {
     "data": {
      "text/plain": [
       "0    1.0\n",
       "Name: is_churn, dtype: float64"
      ]
     },
     "execution_count": 141,
     "metadata": {},
     "output_type": "execute_result"
    }
   ],
   "source": [
    "test_ids['is_churn'].value_counts(1)"
   ]
  },
  {
   "cell_type": "markdown",
   "metadata": {},
   "source": [
    "Are they all 0 because we are supposed to assign / predict them? Why not leave them null?"
   ]
  },
  {
   "cell_type": "markdown",
   "metadata": {},
   "source": [
    "Are users in both test & train datasets?"
   ]
  },
  {
   "cell_type": "code",
   "execution_count": 135,
   "metadata": {},
   "outputs": [],
   "source": [
    "test_df = pd.merge(user_df, test_ids, on='msno', how='right', suffixes=('_user', '_sub'))"
   ]
  },
  {
   "cell_type": "code",
   "execution_count": 141,
   "metadata": {},
   "outputs": [
    {
     "name": "stdout",
     "output_type": "stream",
     "text": [
      "801490 88.32127968827655\n"
     ]
    }
   ],
   "source": [
    "in_both = len(test_df[test_df['is_churn_user'].notna()])\n",
    "print(in_both, in_both / len(test_df) * 100)"
   ]
  },
  {
   "cell_type": "code",
   "execution_count": 138,
   "metadata": {},
   "outputs": [],
   "source": [
    "# diff = 1 if 'is_churn' doesn't match between test & train\n",
    "test_df['diff'] = abs(test_df['is_churn_user'] - test_df['is_churn_sub'])"
   ]
  },
  {
   "cell_type": "code",
   "execution_count": 139,
   "metadata": {},
   "outputs": [
    {
     "data": {
      "text/plain": [
       "0.02170730591518368"
      ]
     },
     "execution_count": 139,
     "metadata": {},
     "output_type": "execute_result"
    }
   ],
   "source": [
    "np.sum(test_df['diff']) / len(test_df.dropna())"
   ]
  },
  {
   "cell_type": "markdown",
   "metadata": {},
   "source": [
    "Notes:\n",
    "- 2% of churn data doesn't match between train and test.\n",
    "- 88% of user id's in test data also present in train data. \n",
    "\n",
    "Conclusions:\n",
    "- I'm not sure what to make of the 'sample_submission' data file. \n",
    "- I will ignore it, and create a train/test split from the user_df"
   ]
  },
  {
   "cell_type": "code",
   "execution_count": 144,
   "metadata": {},
   "outputs": [
    {
     "data": {
      "text/plain": [
       "970960"
      ]
     },
     "execution_count": 144,
     "metadata": {},
     "output_type": "execute_result"
    }
   ],
   "source": [
    "len(user_df)"
   ]
  },
  {
   "cell_type": "code",
   "execution_count": 160,
   "metadata": {},
   "outputs": [],
   "source": [
    "# target = 'is_churn'\n",
    "# y = user_df[target]\n",
    "# X = user_df.drop(columns=target)\n",
    "\n",
    "# X_train, X_test, y_train, y_test = train_test_split(X, y, test_size=0.3, random_state=12)\n",
    "\n",
    "# u.pkl_this('Data/X_train.pkl', X_train)\n",
    "# u.pkl_this('Data/X_test.pkl', X_test)\n",
    "# u.pkl_this('Data/y_train.pkl', y_train)\n",
    "# u.pkl_this('Data/y_test.pkl', y_test)"
   ]
  },
  {
   "cell_type": "code",
   "execution_count": null,
   "metadata": {},
   "outputs": [],
   "source": []
  }
 ],
 "metadata": {
  "kernelspec": {
   "display_name": "Python 3",
   "language": "python",
   "name": "python3"
  },
  "language_info": {
   "codemirror_mode": {
    "name": "ipython",
    "version": 3
   },
   "file_extension": ".py",
   "mimetype": "text/x-python",
   "name": "python",
   "nbconvert_exporter": "python",
   "pygments_lexer": "ipython3",
   "version": "3.6.7"
  }
 },
 "nbformat": 4,
 "nbformat_minor": 2
}
